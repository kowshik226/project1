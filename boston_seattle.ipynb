{
 "cells": [
  {
   "cell_type": "markdown",
   "metadata": {},
   "source": [
    "# Analysing Seattle, Boston AirBnb Datasets"
   ]
  },
  {
   "cell_type": "markdown",
   "metadata": {},
   "source": [
    "For this project i will follow the following steps using Cross-industry standard process for data mining(CRISP-DM)\n",
    "\n",
    "1. Business Understanding\n",
    "2. Data Understanding\n",
    "3. Prepare data\n",
    "4. Data Modeling\n",
    "5. Evaluate The results\n",
    "6. Deploy"
   ]
  },
  {
   "cell_type": "markdown",
   "metadata": {},
   "source": [
    "# Business Understanding"
   ]
  },
  {
   "cell_type": "markdown",
   "metadata": {},
   "source": [
    "What kind of answers we get from the data using the below questions\n",
    "\n",
    "1. How do price increase/decrease in a season and peak season?\n",
    "2. What are the important factors that influence price in both cities?\n",
    "3. Price differnce between two cities?\n",
    "4. How many properties owned by host/vendor?\n",
    "5. Analyze what do people think about AirBnb based on reviews?"
   ]
  },
  {
   "cell_type": "markdown",
   "metadata": {},
   "source": [
    "# Data Understanding"
   ]
  },
  {
   "cell_type": "code",
   "execution_count": 356,
   "metadata": {},
   "outputs": [],
   "source": [
    "import pandas as pd\n",
    "import numpy as np\n",
    "import matplotlib.pyplot as plt\n",
    "from IPython import display\n",
    "%matplotlib inline\n",
    "from os import path, getcwd\n",
    "import seaborn as sns\n",
    "from datetime import datetime\n",
    "from sklearn.impute import SimpleImputer"
   ]
  },
  {
   "cell_type": "code",
   "execution_count": 357,
   "metadata": {},
   "outputs": [],
   "source": [
    "# current path\n",
    "cwd = path.join(getcwd(), 'data')\n",
    "\n",
    "# data folders\n",
    "cities = ['boston','seattle']"
   ]
  },
  {
   "cell_type": "code",
   "execution_count": 358,
   "metadata": {},
   "outputs": [],
   "source": [
    "# seattle read data\n",
    "\n",
    "seattle_listings = pd.read_csv(path.join(cwd, cities[0], 'listings.csv'))\n",
    "seattle_reviews  = pd.read_csv(path.join(cwd, cities[0], 'reviews.csv'))\n",
    "seattle_calendar  = pd.read_csv(path.join(cwd, cities[0], 'calendar.csv'))\n",
    "\n",
    "sea_lis = seattle_listings\n",
    "sea_rev = seattle_reviews\n",
    "sea_cal = seattle_calendar"
   ]
  },
  {
   "cell_type": "code",
   "execution_count": 359,
   "metadata": {},
   "outputs": [],
   "source": [
    "# boston data\n",
    "\n",
    "boston_listings = pd.read_csv(path.join(cwd, cities[1], 'listings.csv'))\n",
    "boston_reviews = pd.read_csv(path.join(cwd, cities[1], 'reviews.csv'))\n",
    "boston_calendar  = pd.read_csv(path.join(cwd, cities[0], 'calendar.csv'))\n",
    "\n",
    "bos_lis = boston_listings\n",
    "bos_rev = boston_reviews\n",
    "bos_cal = boston_calendar"
   ]
  },
  {
   "cell_type": "code",
   "execution_count": 360,
   "metadata": {},
   "outputs": [
    {
     "data": {
      "text/plain": [
       "((3585, 95), (68275, 6), (1308890, 4))"
      ]
     },
     "execution_count": 360,
     "metadata": {},
     "output_type": "execute_result"
    }
   ],
   "source": [
    "# print seattle rows and columns\n",
    "\n",
    "sea_lis.shape, sea_rev.shape, sea_cal.shape"
   ]
  },
  {
   "cell_type": "code",
   "execution_count": 361,
   "metadata": {},
   "outputs": [
    {
     "data": {
      "text/plain": [
       "((3818, 92), (84849, 6), (1308890, 4))"
      ]
     },
     "execution_count": 361,
     "metadata": {},
     "output_type": "execute_result"
    }
   ],
   "source": [
    "# print boston rows and colimns\n",
    "\n",
    "bos_lis.shape, bos_rev.shape, bos_cal.shape"
   ]
  },
  {
   "cell_type": "code",
   "execution_count": 362,
   "metadata": {},
   "outputs": [],
   "source": [
    "## Unify columns\n",
    "sea_lis = sea_lis[bos_lis.columns]"
   ]
  },
  {
   "cell_type": "code",
   "execution_count": 363,
   "metadata": {},
   "outputs": [
    {
     "data": {
      "text/plain": [
       "Index(['listing_id', 'id', 'date', 'reviewer_id', 'reviewer_name', 'comments'], dtype='object')"
      ]
     },
     "execution_count": 363,
     "metadata": {},
     "output_type": "execute_result"
    }
   ],
   "source": [
    "sea_rev.columns"
   ]
  },
  {
   "cell_type": "code",
   "execution_count": 364,
   "metadata": {},
   "outputs": [
    {
     "data": {
      "text/html": [
       "<div>\n",
       "<style scoped>\n",
       "    .dataframe tbody tr th:only-of-type {\n",
       "        vertical-align: middle;\n",
       "    }\n",
       "\n",
       "    .dataframe tbody tr th {\n",
       "        vertical-align: top;\n",
       "    }\n",
       "\n",
       "    .dataframe thead th {\n",
       "        text-align: right;\n",
       "    }\n",
       "</style>\n",
       "<table border=\"1\" class=\"dataframe\">\n",
       "  <thead>\n",
       "    <tr style=\"text-align: right;\">\n",
       "      <th></th>\n",
       "      <th>id</th>\n",
       "      <th>listing_url</th>\n",
       "      <th>scrape_id</th>\n",
       "      <th>last_scraped</th>\n",
       "      <th>name</th>\n",
       "      <th>summary</th>\n",
       "      <th>space</th>\n",
       "      <th>description</th>\n",
       "      <th>experiences_offered</th>\n",
       "      <th>neighborhood_overview</th>\n",
       "      <th>...</th>\n",
       "      <th>review_scores_value</th>\n",
       "      <th>requires_license</th>\n",
       "      <th>license</th>\n",
       "      <th>jurisdiction_names</th>\n",
       "      <th>instant_bookable</th>\n",
       "      <th>cancellation_policy</th>\n",
       "      <th>require_guest_profile_picture</th>\n",
       "      <th>require_guest_phone_verification</th>\n",
       "      <th>calculated_host_listings_count</th>\n",
       "      <th>reviews_per_month</th>\n",
       "    </tr>\n",
       "  </thead>\n",
       "  <tbody>\n",
       "    <tr>\n",
       "      <td>0</td>\n",
       "      <td>12147973</td>\n",
       "      <td>https://www.airbnb.com/rooms/12147973</td>\n",
       "      <td>20160906204935</td>\n",
       "      <td>2016-09-07</td>\n",
       "      <td>Sunny Bungalow in the City</td>\n",
       "      <td>Cozy, sunny, family home.  Master bedroom high...</td>\n",
       "      <td>The house has an open and cozy feel at the sam...</td>\n",
       "      <td>Cozy, sunny, family home.  Master bedroom high...</td>\n",
       "      <td>none</td>\n",
       "      <td>Roslindale is quiet, convenient and friendly. ...</td>\n",
       "      <td>...</td>\n",
       "      <td>NaN</td>\n",
       "      <td>f</td>\n",
       "      <td>NaN</td>\n",
       "      <td>NaN</td>\n",
       "      <td>f</td>\n",
       "      <td>moderate</td>\n",
       "      <td>f</td>\n",
       "      <td>f</td>\n",
       "      <td>1</td>\n",
       "      <td>NaN</td>\n",
       "    </tr>\n",
       "    <tr>\n",
       "      <td>1</td>\n",
       "      <td>3075044</td>\n",
       "      <td>https://www.airbnb.com/rooms/3075044</td>\n",
       "      <td>20160906204935</td>\n",
       "      <td>2016-09-07</td>\n",
       "      <td>Charming room in pet friendly apt</td>\n",
       "      <td>Charming and quiet room in a second floor 1910...</td>\n",
       "      <td>Small but cozy and quite room with a full size...</td>\n",
       "      <td>Charming and quiet room in a second floor 1910...</td>\n",
       "      <td>none</td>\n",
       "      <td>The room is in Roslindale, a diverse and prima...</td>\n",
       "      <td>...</td>\n",
       "      <td>9.0</td>\n",
       "      <td>f</td>\n",
       "      <td>NaN</td>\n",
       "      <td>NaN</td>\n",
       "      <td>t</td>\n",
       "      <td>moderate</td>\n",
       "      <td>f</td>\n",
       "      <td>f</td>\n",
       "      <td>1</td>\n",
       "      <td>1.30</td>\n",
       "    </tr>\n",
       "    <tr>\n",
       "      <td>2</td>\n",
       "      <td>6976</td>\n",
       "      <td>https://www.airbnb.com/rooms/6976</td>\n",
       "      <td>20160906204935</td>\n",
       "      <td>2016-09-07</td>\n",
       "      <td>Mexican Folk Art Haven in Boston</td>\n",
       "      <td>Come stay with a friendly, middle-aged guy in ...</td>\n",
       "      <td>Come stay with a friendly, middle-aged guy in ...</td>\n",
       "      <td>Come stay with a friendly, middle-aged guy in ...</td>\n",
       "      <td>none</td>\n",
       "      <td>The LOCATION: Roslindale is a safe and diverse...</td>\n",
       "      <td>...</td>\n",
       "      <td>10.0</td>\n",
       "      <td>f</td>\n",
       "      <td>NaN</td>\n",
       "      <td>NaN</td>\n",
       "      <td>f</td>\n",
       "      <td>moderate</td>\n",
       "      <td>t</td>\n",
       "      <td>f</td>\n",
       "      <td>1</td>\n",
       "      <td>0.47</td>\n",
       "    </tr>\n",
       "  </tbody>\n",
       "</table>\n",
       "<p>3 rows × 92 columns</p>\n",
       "</div>"
      ],
      "text/plain": [
       "         id                            listing_url       scrape_id  \\\n",
       "0  12147973  https://www.airbnb.com/rooms/12147973  20160906204935   \n",
       "1   3075044   https://www.airbnb.com/rooms/3075044  20160906204935   \n",
       "2      6976      https://www.airbnb.com/rooms/6976  20160906204935   \n",
       "\n",
       "  last_scraped                               name  \\\n",
       "0   2016-09-07         Sunny Bungalow in the City   \n",
       "1   2016-09-07  Charming room in pet friendly apt   \n",
       "2   2016-09-07   Mexican Folk Art Haven in Boston   \n",
       "\n",
       "                                             summary  \\\n",
       "0  Cozy, sunny, family home.  Master bedroom high...   \n",
       "1  Charming and quiet room in a second floor 1910...   \n",
       "2  Come stay with a friendly, middle-aged guy in ...   \n",
       "\n",
       "                                               space  \\\n",
       "0  The house has an open and cozy feel at the sam...   \n",
       "1  Small but cozy and quite room with a full size...   \n",
       "2  Come stay with a friendly, middle-aged guy in ...   \n",
       "\n",
       "                                         description experiences_offered  \\\n",
       "0  Cozy, sunny, family home.  Master bedroom high...                none   \n",
       "1  Charming and quiet room in a second floor 1910...                none   \n",
       "2  Come stay with a friendly, middle-aged guy in ...                none   \n",
       "\n",
       "                               neighborhood_overview  ... review_scores_value  \\\n",
       "0  Roslindale is quiet, convenient and friendly. ...  ...                 NaN   \n",
       "1  The room is in Roslindale, a diverse and prima...  ...                 9.0   \n",
       "2  The LOCATION: Roslindale is a safe and diverse...  ...                10.0   \n",
       "\n",
       "  requires_license license jurisdiction_names instant_bookable  \\\n",
       "0                f     NaN                NaN                f   \n",
       "1                f     NaN                NaN                t   \n",
       "2                f     NaN                NaN                f   \n",
       "\n",
       "  cancellation_policy  require_guest_profile_picture  \\\n",
       "0            moderate                              f   \n",
       "1            moderate                              f   \n",
       "2            moderate                              t   \n",
       "\n",
       "  require_guest_phone_verification calculated_host_listings_count  \\\n",
       "0                                f                              1   \n",
       "1                                f                              1   \n",
       "2                                f                              1   \n",
       "\n",
       "  reviews_per_month  \n",
       "0               NaN  \n",
       "1              1.30  \n",
       "2              0.47  \n",
       "\n",
       "[3 rows x 92 columns]"
      ]
     },
     "execution_count": 364,
     "metadata": {},
     "output_type": "execute_result"
    }
   ],
   "source": [
    "sea_lis.head(3)"
   ]
  },
  {
   "cell_type": "code",
   "execution_count": 365,
   "metadata": {},
   "outputs": [
    {
     "data": {
      "text/html": [
       "<div>\n",
       "<style scoped>\n",
       "    .dataframe tbody tr th:only-of-type {\n",
       "        vertical-align: middle;\n",
       "    }\n",
       "\n",
       "    .dataframe tbody tr th {\n",
       "        vertical-align: top;\n",
       "    }\n",
       "\n",
       "    .dataframe thead th {\n",
       "        text-align: right;\n",
       "    }\n",
       "</style>\n",
       "<table border=\"1\" class=\"dataframe\">\n",
       "  <thead>\n",
       "    <tr style=\"text-align: right;\">\n",
       "      <th></th>\n",
       "      <th>id</th>\n",
       "      <th>listing_url</th>\n",
       "      <th>scrape_id</th>\n",
       "      <th>last_scraped</th>\n",
       "      <th>name</th>\n",
       "      <th>summary</th>\n",
       "      <th>space</th>\n",
       "      <th>description</th>\n",
       "      <th>experiences_offered</th>\n",
       "      <th>neighborhood_overview</th>\n",
       "      <th>...</th>\n",
       "      <th>review_scores_value</th>\n",
       "      <th>requires_license</th>\n",
       "      <th>license</th>\n",
       "      <th>jurisdiction_names</th>\n",
       "      <th>instant_bookable</th>\n",
       "      <th>cancellation_policy</th>\n",
       "      <th>require_guest_profile_picture</th>\n",
       "      <th>require_guest_phone_verification</th>\n",
       "      <th>calculated_host_listings_count</th>\n",
       "      <th>reviews_per_month</th>\n",
       "    </tr>\n",
       "  </thead>\n",
       "  <tbody>\n",
       "    <tr>\n",
       "      <td>0</td>\n",
       "      <td>241032</td>\n",
       "      <td>https://www.airbnb.com/rooms/241032</td>\n",
       "      <td>20160104002432</td>\n",
       "      <td>2016-01-04</td>\n",
       "      <td>Stylish Queen Anne Apartment</td>\n",
       "      <td>NaN</td>\n",
       "      <td>Make your self at home in this charming one-be...</td>\n",
       "      <td>Make your self at home in this charming one-be...</td>\n",
       "      <td>none</td>\n",
       "      <td>NaN</td>\n",
       "      <td>...</td>\n",
       "      <td>10.0</td>\n",
       "      <td>f</td>\n",
       "      <td>NaN</td>\n",
       "      <td>WASHINGTON</td>\n",
       "      <td>f</td>\n",
       "      <td>moderate</td>\n",
       "      <td>f</td>\n",
       "      <td>f</td>\n",
       "      <td>2</td>\n",
       "      <td>4.07</td>\n",
       "    </tr>\n",
       "    <tr>\n",
       "      <td>1</td>\n",
       "      <td>953595</td>\n",
       "      <td>https://www.airbnb.com/rooms/953595</td>\n",
       "      <td>20160104002432</td>\n",
       "      <td>2016-01-04</td>\n",
       "      <td>Bright &amp; Airy Queen Anne Apartment</td>\n",
       "      <td>Chemically sensitive? We've removed the irrita...</td>\n",
       "      <td>Beautiful, hypoallergenic apartment in an extr...</td>\n",
       "      <td>Chemically sensitive? We've removed the irrita...</td>\n",
       "      <td>none</td>\n",
       "      <td>Queen Anne is a wonderful, truly functional vi...</td>\n",
       "      <td>...</td>\n",
       "      <td>10.0</td>\n",
       "      <td>f</td>\n",
       "      <td>NaN</td>\n",
       "      <td>WASHINGTON</td>\n",
       "      <td>f</td>\n",
       "      <td>strict</td>\n",
       "      <td>t</td>\n",
       "      <td>t</td>\n",
       "      <td>6</td>\n",
       "      <td>1.48</td>\n",
       "    </tr>\n",
       "    <tr>\n",
       "      <td>2</td>\n",
       "      <td>3308979</td>\n",
       "      <td>https://www.airbnb.com/rooms/3308979</td>\n",
       "      <td>20160104002432</td>\n",
       "      <td>2016-01-04</td>\n",
       "      <td>New Modern House-Amazing water view</td>\n",
       "      <td>New modern house built in 2013.  Spectacular s...</td>\n",
       "      <td>Our house is modern, light and fresh with a wa...</td>\n",
       "      <td>New modern house built in 2013.  Spectacular s...</td>\n",
       "      <td>none</td>\n",
       "      <td>Upper Queen Anne is a charming neighborhood fu...</td>\n",
       "      <td>...</td>\n",
       "      <td>10.0</td>\n",
       "      <td>f</td>\n",
       "      <td>NaN</td>\n",
       "      <td>WASHINGTON</td>\n",
       "      <td>f</td>\n",
       "      <td>strict</td>\n",
       "      <td>f</td>\n",
       "      <td>f</td>\n",
       "      <td>2</td>\n",
       "      <td>1.15</td>\n",
       "    </tr>\n",
       "  </tbody>\n",
       "</table>\n",
       "<p>3 rows × 92 columns</p>\n",
       "</div>"
      ],
      "text/plain": [
       "        id                           listing_url       scrape_id last_scraped  \\\n",
       "0   241032   https://www.airbnb.com/rooms/241032  20160104002432   2016-01-04   \n",
       "1   953595   https://www.airbnb.com/rooms/953595  20160104002432   2016-01-04   \n",
       "2  3308979  https://www.airbnb.com/rooms/3308979  20160104002432   2016-01-04   \n",
       "\n",
       "                                  name  \\\n",
       "0         Stylish Queen Anne Apartment   \n",
       "1   Bright & Airy Queen Anne Apartment   \n",
       "2  New Modern House-Amazing water view   \n",
       "\n",
       "                                             summary  \\\n",
       "0                                                NaN   \n",
       "1  Chemically sensitive? We've removed the irrita...   \n",
       "2  New modern house built in 2013.  Spectacular s...   \n",
       "\n",
       "                                               space  \\\n",
       "0  Make your self at home in this charming one-be...   \n",
       "1  Beautiful, hypoallergenic apartment in an extr...   \n",
       "2  Our house is modern, light and fresh with a wa...   \n",
       "\n",
       "                                         description experiences_offered  \\\n",
       "0  Make your self at home in this charming one-be...                none   \n",
       "1  Chemically sensitive? We've removed the irrita...                none   \n",
       "2  New modern house built in 2013.  Spectacular s...                none   \n",
       "\n",
       "                               neighborhood_overview  ... review_scores_value  \\\n",
       "0                                                NaN  ...                10.0   \n",
       "1  Queen Anne is a wonderful, truly functional vi...  ...                10.0   \n",
       "2  Upper Queen Anne is a charming neighborhood fu...  ...                10.0   \n",
       "\n",
       "  requires_license license jurisdiction_names instant_bookable  \\\n",
       "0                f     NaN         WASHINGTON                f   \n",
       "1                f     NaN         WASHINGTON                f   \n",
       "2                f     NaN         WASHINGTON                f   \n",
       "\n",
       "  cancellation_policy  require_guest_profile_picture  \\\n",
       "0            moderate                              f   \n",
       "1              strict                              t   \n",
       "2              strict                              f   \n",
       "\n",
       "  require_guest_phone_verification calculated_host_listings_count  \\\n",
       "0                                f                              2   \n",
       "1                                t                              6   \n",
       "2                                f                              2   \n",
       "\n",
       "  reviews_per_month  \n",
       "0              4.07  \n",
       "1              1.48  \n",
       "2              1.15  \n",
       "\n",
       "[3 rows x 92 columns]"
      ]
     },
     "execution_count": 365,
     "metadata": {},
     "output_type": "execute_result"
    }
   ],
   "source": [
    "bos_lis.head(3)"
   ]
  },
  {
   "cell_type": "markdown",
   "metadata": {},
   "source": [
    "# Prepare data"
   ]
  },
  {
   "cell_type": "code",
   "execution_count": 366,
   "metadata": {},
   "outputs": [
    {
     "data": {
      "text/plain": [
       "Index(['listing_id', 'date', 'available', 'price'], dtype='object')"
      ]
     },
     "execution_count": 366,
     "metadata": {},
     "output_type": "execute_result"
    }
   ],
   "source": [
    "bos_cal.columns"
   ]
  },
  {
   "cell_type": "code",
   "execution_count": 367,
   "metadata": {},
   "outputs": [
    {
     "data": {
      "text/plain": [
       "Index(['listing_id', 'id', 'date', 'reviewer_id', 'reviewer_name', 'comments'], dtype='object')"
      ]
     },
     "execution_count": 367,
     "metadata": {},
     "output_type": "execute_result"
    }
   ],
   "source": [
    "bos_rev.columns"
   ]
  },
  {
   "cell_type": "code",
   "execution_count": 368,
   "metadata": {},
   "outputs": [
    {
     "data": {
      "text/plain": [
       "Index(['id', 'listing_url', 'scrape_id', 'last_scraped', 'name', 'summary',\n",
       "       'space', 'description', 'experiences_offered', 'neighborhood_overview',\n",
       "       'notes', 'transit', 'thumbnail_url', 'medium_url', 'picture_url',\n",
       "       'xl_picture_url', 'host_id', 'host_url', 'host_name', 'host_since',\n",
       "       'host_location', 'host_about', 'host_response_time',\n",
       "       'host_response_rate', 'host_acceptance_rate', 'host_is_superhost',\n",
       "       'host_thumbnail_url', 'host_picture_url', 'host_neighbourhood',\n",
       "       'host_listings_count', 'host_total_listings_count',\n",
       "       'host_verifications', 'host_has_profile_pic', 'host_identity_verified',\n",
       "       'street', 'neighbourhood', 'neighbourhood_cleansed',\n",
       "       'neighbourhood_group_cleansed', 'city', 'state', 'zipcode', 'market',\n",
       "       'smart_location', 'country_code', 'country', 'latitude', 'longitude',\n",
       "       'is_location_exact', 'property_type', 'room_type', 'accommodates',\n",
       "       'bathrooms', 'bedrooms', 'beds', 'bed_type', 'amenities', 'square_feet',\n",
       "       'price', 'weekly_price', 'monthly_price', 'security_deposit',\n",
       "       'cleaning_fee', 'guests_included', 'extra_people', 'minimum_nights',\n",
       "       'maximum_nights', 'calendar_updated', 'has_availability',\n",
       "       'availability_30', 'availability_60', 'availability_90',\n",
       "       'availability_365', 'calendar_last_scraped', 'number_of_reviews',\n",
       "       'first_review', 'last_review', 'review_scores_rating',\n",
       "       'review_scores_accuracy', 'review_scores_cleanliness',\n",
       "       'review_scores_checkin', 'review_scores_communication',\n",
       "       'review_scores_location', 'review_scores_value', 'requires_license',\n",
       "       'license', 'jurisdiction_names', 'instant_bookable',\n",
       "       'cancellation_policy', 'require_guest_profile_picture',\n",
       "       'require_guest_phone_verification', 'calculated_host_listings_count',\n",
       "       'reviews_per_month'],\n",
       "      dtype='object')"
      ]
     },
     "execution_count": 368,
     "metadata": {},
     "output_type": "execute_result"
    }
   ],
   "source": [
    "# analyze and remove unwanted columns\n",
    "bos_lis.columns"
   ]
  },
  {
   "cell_type": "code",
   "execution_count": 406,
   "metadata": {},
   "outputs": [],
   "source": [
    "# remove columsns that are not required\n",
    "\n",
    "# cols = ['listing_url', 'scrape_id', 'last_scraped', 'name','summary',\n",
    "#        'space', 'description', 'experiences_offered', 'neighborhood_overview',\n",
    "#        'notes', 'transit', 'thumbnail_url', 'medium_url', 'picture_url',\n",
    "#        'xl_picture_url','host_url', 'host_name','host_location', 'host_about',\n",
    "#         'host_thumbnail_url', 'host_picture_url', 'host_neighbourhood',\n",
    "#        'street', 'neighbourhood', 'neighbourhood_cleansed',\n",
    "#        'neighbourhood_group_cleansed', 'city', 'state','market',\n",
    "#        'smart_location', 'country_code', 'country', 'latitude', 'longitude',\n",
    "#        'calendar_last_scraped','calendar_last_scraped','requires_license',\n",
    "#        'license', 'jurisdiction_names','host_id','host_listings_count', \n",
    "#           'host_total_listings_count','host_verifications',]\n",
    "\n",
    "cols = ['id','host_since','host_id','host_response_time',\n",
    "       'host_response_rate', 'host_is_superhost','host_verifications',\n",
    "       'zipcode','is_location_exact', 'property_type', 'room_type', 'accommodates',\n",
    "       'bathrooms', 'bedrooms', 'beds', 'bed_type', 'amenities',\n",
    "       'price','guests_included','neighbourhood_cleansed', 'extra_people', 'minimum_nights',\n",
    "       'maximum_nights',\n",
    "       'availability_30', 'availability_60', 'availability_90',\n",
    "       'availability_365','number_of_reviews',\n",
    "       'first_review', 'last_review', 'review_scores_rating',\n",
    "       'review_scores_accuracy','review_scores_cleanliness',\n",
    "       'review_scores_checkin', 'review_scores_communication',\n",
    "       'review_scores_location', 'review_scores_value','instant_bookable',\n",
    "       'cancellation_policy', 'require_guest_profile_picture','require_guest_phone_verification',\n",
    "       'calculated_host_listings_count','reviews_per_month']\n",
    "\n",
    "sea_lis_1 = sea_lis[cols]\n",
    "bos_lis_1 = bos_lis[cols]\n",
    "sea_rev_1 = sea_rev\n",
    "bos_rev_1 = bos_rev\n",
    "sea_cal_1 = sea_cal\n",
    "bos_cal_1 = bos_cal\n",
    "# len(cols)"
   ]
  },
  {
   "cell_type": "markdown",
   "metadata": {},
   "source": [
    "After analysing the each column i finally choose 49 columns that are required to analyze \n",
    "my questions"
   ]
  },
  {
   "cell_type": "code",
   "execution_count": 407,
   "metadata": {},
   "outputs": [],
   "source": [
    "# seattle missing value in columns\n",
    "sea_lis_col_miss = set(sea_lis.columns[sea_lis.isnull().mean()>0.0001])\n",
    "sea_rev_col_miss = set(sea_rev.columns[sea_rev.isnull().mean()>0.0001])\n",
    "sea_cal_col_miss = set(sea_cal.columns[sea_cal.isnull().mean()>0.0001])"
   ]
  },
  {
   "cell_type": "code",
   "execution_count": 408,
   "metadata": {},
   "outputs": [],
   "source": [
    "# boston missing value in columns\n",
    "bos_lis_col_miss = set(bos_lis.columns[bos_lis.isnull().mean()>0.0001])\n",
    "bos_rev_col_miss = set(bos_rev.columns[bos_rev.isnull().mean()>0.0001])\n",
    "bos_cal_col_miss = set(bos_cal.columns[bos_cal.isnull().mean()>0.0001])"
   ]
  },
  {
   "cell_type": "code",
   "execution_count": 409,
   "metadata": {},
   "outputs": [],
   "source": [
    "# find missing percentage seattle columns\n",
    "sea_lis_colmiss_per = (sea_lis_1.isnull().sum()) / sea_lis.shape[0]\n",
    "sea_rev_colmiss_per = (sea_rev_1.isnull().sum()) / sea_rev.shape[0]\n",
    "sea_cal_colmiss_per = (sea_cal_1.isnull().sum()) / sea_cal.shape[0]"
   ]
  },
  {
   "cell_type": "code",
   "execution_count": 410,
   "metadata": {},
   "outputs": [],
   "source": [
    "# find missing percentage boston columns\n",
    "bos_lis_colmiss_per = (bos_lis_1.isnull().sum()) / sea_lis.shape[0]\n",
    "bos_rev_colmiss_per = (bos_rev_1.isnull().sum()) / sea_rev.shape[0]\n",
    "bos_cal_colmiss_per = (bos_cal_1.isnull().sum()) / sea_cal.shape[0]"
   ]
  },
  {
   "cell_type": "code",
   "execution_count": 411,
   "metadata": {},
   "outputs": [
    {
     "data": {
      "text/plain": [
       "id                                  0.000000\n",
       "host_since                          0.000000\n",
       "host_id                             0.000000\n",
       "host_response_time                  0.131381\n",
       "host_response_rate                  0.131381\n",
       "host_is_superhost                   0.000000\n",
       "host_verifications                  0.000000\n",
       "zipcode                             0.010600\n",
       "is_location_exact                   0.000000\n",
       "property_type                       0.000837\n",
       "room_type                           0.000000\n",
       "accommodates                        0.000000\n",
       "bathrooms                           0.003905\n",
       "bedrooms                            0.002789\n",
       "beds                                0.002510\n",
       "bed_type                            0.000000\n",
       "amenities                           0.000000\n",
       "price                               0.000000\n",
       "guests_included                     0.000000\n",
       "neighbourhood_cleansed              0.000000\n",
       "extra_people                        0.000000\n",
       "minimum_nights                      0.000000\n",
       "maximum_nights                      0.000000\n",
       "availability_30                     0.000000\n",
       "availability_60                     0.000000\n",
       "availability_90                     0.000000\n",
       "availability_365                    0.000000\n",
       "number_of_reviews                   0.000000\n",
       "first_review                        0.210879\n",
       "last_review                         0.210879\n",
       "review_scores_rating                0.226778\n",
       "review_scores_accuracy              0.229568\n",
       "review_scores_cleanliness           0.228173\n",
       "review_scores_checkin               0.228731\n",
       "review_scores_communication         0.228173\n",
       "review_scores_location              0.229289\n",
       "review_scores_value                 0.229010\n",
       "instant_bookable                    0.000000\n",
       "cancellation_policy                 0.000000\n",
       "require_guest_profile_picture       0.000000\n",
       "require_guest_phone_verification    0.000000\n",
       "calculated_host_listings_count      0.000000\n",
       "reviews_per_month                   0.210879\n",
       "dtype: float64"
      ]
     },
     "execution_count": 411,
     "metadata": {},
     "output_type": "execute_result"
    }
   ],
   "source": [
    "sea_lis_colmiss_per"
   ]
  },
  {
   "cell_type": "code",
   "execution_count": 412,
   "metadata": {},
   "outputs": [
    {
     "data": {
      "text/plain": [
       "listing_id       0.000000\n",
       "id               0.000000\n",
       "date             0.000000\n",
       "reviewer_id      0.000000\n",
       "reviewer_name    0.000000\n",
       "comments         0.000776\n",
       "dtype: float64"
      ]
     },
     "execution_count": 412,
     "metadata": {},
     "output_type": "execute_result"
    }
   ],
   "source": [
    "sea_rev_colmiss_per"
   ]
  },
  {
   "cell_type": "code",
   "execution_count": 413,
   "metadata": {},
   "outputs": [
    {
     "data": {
      "text/plain": [
       "listing_id    0.0\n",
       "date          0.0\n",
       "available     0.0\n",
       "price         0.0\n",
       "dtype: float64"
      ]
     },
     "execution_count": 413,
     "metadata": {},
     "output_type": "execute_result"
    }
   ],
   "source": [
    "sea_cal_colmiss_per"
   ]
  },
  {
   "cell_type": "code",
   "execution_count": 414,
   "metadata": {},
   "outputs": [
    {
     "data": {
      "text/plain": [
       "id                                  0.000000\n",
       "host_since                          0.000558\n",
       "host_id                             0.000000\n",
       "host_response_time                  0.145886\n",
       "host_response_rate                  0.145886\n",
       "host_is_superhost                   0.000558\n",
       "host_verifications                  0.000000\n",
       "zipcode                             0.001953\n",
       "is_location_exact                   0.000000\n",
       "property_type                       0.000279\n",
       "room_type                           0.000000\n",
       "accommodates                        0.000000\n",
       "bathrooms                           0.004463\n",
       "bedrooms                            0.001674\n",
       "beds                                0.000279\n",
       "bed_type                            0.000000\n",
       "amenities                           0.000000\n",
       "price                               0.000000\n",
       "guests_included                     0.000000\n",
       "neighbourhood_cleansed              0.000000\n",
       "extra_people                        0.000000\n",
       "minimum_nights                      0.000000\n",
       "maximum_nights                      0.000000\n",
       "availability_30                     0.000000\n",
       "availability_60                     0.000000\n",
       "availability_90                     0.000000\n",
       "availability_365                    0.000000\n",
       "number_of_reviews                   0.000000\n",
       "first_review                        0.174895\n",
       "last_review                         0.174895\n",
       "review_scores_rating                0.180474\n",
       "review_scores_accuracy              0.183543\n",
       "review_scores_cleanliness           0.182148\n",
       "review_scores_checkin               0.183543\n",
       "review_scores_communication         0.181590\n",
       "review_scores_location              0.182706\n",
       "review_scores_value                 0.182985\n",
       "instant_bookable                    0.000000\n",
       "cancellation_policy                 0.000000\n",
       "require_guest_profile_picture       0.000000\n",
       "require_guest_phone_verification    0.000000\n",
       "calculated_host_listings_count      0.000000\n",
       "reviews_per_month                   0.174895\n",
       "dtype: float64"
      ]
     },
     "execution_count": 414,
     "metadata": {},
     "output_type": "execute_result"
    }
   ],
   "source": [
    "bos_lis_colmiss_per"
   ]
  },
  {
   "cell_type": "code",
   "execution_count": 415,
   "metadata": {},
   "outputs": [
    {
     "data": {
      "text/plain": [
       "listing_id       0.000000\n",
       "id               0.000000\n",
       "date             0.000000\n",
       "reviewer_id      0.000000\n",
       "reviewer_name    0.000000\n",
       "comments         0.000264\n",
       "dtype: float64"
      ]
     },
     "execution_count": 415,
     "metadata": {},
     "output_type": "execute_result"
    }
   ],
   "source": [
    "bos_rev_colmiss_per"
   ]
  },
  {
   "cell_type": "code",
   "execution_count": 416,
   "metadata": {},
   "outputs": [
    {
     "data": {
      "text/plain": [
       "listing_id    0.0\n",
       "date          0.0\n",
       "available     0.0\n",
       "price         0.0\n",
       "dtype: float64"
      ]
     },
     "execution_count": 416,
     "metadata": {},
     "output_type": "execute_result"
    }
   ],
   "source": [
    "bos_cal_colmiss_per"
   ]
  },
  {
   "cell_type": "code",
   "execution_count": 417,
   "metadata": {},
   "outputs": [],
   "source": [
    "# for testing on datasets\n",
    "\n",
    "# from collections import Counter\n",
    "\n",
    "# c = Counter(list(zip(df.host_id)))\n",
    "\n",
    "# sea_lis['host_id'].value_counts()\n",
    "# sea_lis['host_response_time'].value_counts()"
   ]
  },
  {
   "cell_type": "code",
   "execution_count": 418,
   "metadata": {},
   "outputs": [
    {
     "data": {
      "text/html": [
       "<div>\n",
       "<style scoped>\n",
       "    .dataframe tbody tr th:only-of-type {\n",
       "        vertical-align: middle;\n",
       "    }\n",
       "\n",
       "    .dataframe tbody tr th {\n",
       "        vertical-align: top;\n",
       "    }\n",
       "\n",
       "    .dataframe thead th {\n",
       "        text-align: right;\n",
       "    }\n",
       "</style>\n",
       "<table border=\"1\" class=\"dataframe\">\n",
       "  <thead>\n",
       "    <tr style=\"text-align: right;\">\n",
       "      <th></th>\n",
       "      <th>id</th>\n",
       "      <th>host_since</th>\n",
       "      <th>host_id</th>\n",
       "      <th>host_response_time</th>\n",
       "      <th>host_response_rate</th>\n",
       "      <th>host_is_superhost</th>\n",
       "      <th>host_verifications</th>\n",
       "      <th>zipcode</th>\n",
       "      <th>is_location_exact</th>\n",
       "      <th>property_type</th>\n",
       "      <th>...</th>\n",
       "      <th>availability_30</th>\n",
       "      <th>availability_60</th>\n",
       "      <th>availability_90</th>\n",
       "      <th>availability_365</th>\n",
       "      <th>number_of_reviews</th>\n",
       "      <th>instant_bookable</th>\n",
       "      <th>cancellation_policy</th>\n",
       "      <th>require_guest_profile_picture</th>\n",
       "      <th>require_guest_phone_verification</th>\n",
       "      <th>calculated_host_listings_count</th>\n",
       "    </tr>\n",
       "  </thead>\n",
       "  <tbody>\n",
       "    <tr>\n",
       "      <td>0</td>\n",
       "      <td>12147973</td>\n",
       "      <td>2015-04-15</td>\n",
       "      <td>31303940</td>\n",
       "      <td>NaN</td>\n",
       "      <td>NaN</td>\n",
       "      <td>f</td>\n",
       "      <td>['email', 'phone', 'facebook', 'reviews']</td>\n",
       "      <td>02131</td>\n",
       "      <td>t</td>\n",
       "      <td>House</td>\n",
       "      <td>...</td>\n",
       "      <td>0</td>\n",
       "      <td>0</td>\n",
       "      <td>0</td>\n",
       "      <td>0</td>\n",
       "      <td>0</td>\n",
       "      <td>f</td>\n",
       "      <td>moderate</td>\n",
       "      <td>f</td>\n",
       "      <td>f</td>\n",
       "      <td>1</td>\n",
       "    </tr>\n",
       "    <tr>\n",
       "      <td>1</td>\n",
       "      <td>3075044</td>\n",
       "      <td>2012-06-07</td>\n",
       "      <td>2572247</td>\n",
       "      <td>within an hour</td>\n",
       "      <td>100%</td>\n",
       "      <td>f</td>\n",
       "      <td>['email', 'phone', 'facebook', 'linkedin', 'am...</td>\n",
       "      <td>02131</td>\n",
       "      <td>t</td>\n",
       "      <td>Apartment</td>\n",
       "      <td>...</td>\n",
       "      <td>26</td>\n",
       "      <td>54</td>\n",
       "      <td>84</td>\n",
       "      <td>359</td>\n",
       "      <td>36</td>\n",
       "      <td>t</td>\n",
       "      <td>moderate</td>\n",
       "      <td>f</td>\n",
       "      <td>f</td>\n",
       "      <td>1</td>\n",
       "    </tr>\n",
       "    <tr>\n",
       "      <td>2</td>\n",
       "      <td>6976</td>\n",
       "      <td>2009-05-11</td>\n",
       "      <td>16701</td>\n",
       "      <td>within a few hours</td>\n",
       "      <td>100%</td>\n",
       "      <td>t</td>\n",
       "      <td>['email', 'phone', 'reviews', 'jumio']</td>\n",
       "      <td>02131</td>\n",
       "      <td>t</td>\n",
       "      <td>Apartment</td>\n",
       "      <td>...</td>\n",
       "      <td>19</td>\n",
       "      <td>46</td>\n",
       "      <td>61</td>\n",
       "      <td>319</td>\n",
       "      <td>41</td>\n",
       "      <td>f</td>\n",
       "      <td>moderate</td>\n",
       "      <td>t</td>\n",
       "      <td>f</td>\n",
       "      <td>1</td>\n",
       "    </tr>\n",
       "    <tr>\n",
       "      <td>3</td>\n",
       "      <td>1436513</td>\n",
       "      <td>2013-04-21</td>\n",
       "      <td>6031442</td>\n",
       "      <td>within a few hours</td>\n",
       "      <td>100%</td>\n",
       "      <td>f</td>\n",
       "      <td>['email', 'phone', 'reviews']</td>\n",
       "      <td>NaN</td>\n",
       "      <td>f</td>\n",
       "      <td>House</td>\n",
       "      <td>...</td>\n",
       "      <td>6</td>\n",
       "      <td>16</td>\n",
       "      <td>26</td>\n",
       "      <td>98</td>\n",
       "      <td>1</td>\n",
       "      <td>f</td>\n",
       "      <td>moderate</td>\n",
       "      <td>f</td>\n",
       "      <td>f</td>\n",
       "      <td>1</td>\n",
       "    </tr>\n",
       "    <tr>\n",
       "      <td>4</td>\n",
       "      <td>7651065</td>\n",
       "      <td>2014-05-11</td>\n",
       "      <td>15396970</td>\n",
       "      <td>within an hour</td>\n",
       "      <td>100%</td>\n",
       "      <td>t</td>\n",
       "      <td>['email', 'phone', 'reviews', 'kba']</td>\n",
       "      <td>02131</td>\n",
       "      <td>t</td>\n",
       "      <td>House</td>\n",
       "      <td>...</td>\n",
       "      <td>13</td>\n",
       "      <td>34</td>\n",
       "      <td>59</td>\n",
       "      <td>334</td>\n",
       "      <td>29</td>\n",
       "      <td>f</td>\n",
       "      <td>flexible</td>\n",
       "      <td>f</td>\n",
       "      <td>f</td>\n",
       "      <td>1</td>\n",
       "    </tr>\n",
       "    <tr>\n",
       "      <td>...</td>\n",
       "      <td>...</td>\n",
       "      <td>...</td>\n",
       "      <td>...</td>\n",
       "      <td>...</td>\n",
       "      <td>...</td>\n",
       "      <td>...</td>\n",
       "      <td>...</td>\n",
       "      <td>...</td>\n",
       "      <td>...</td>\n",
       "      <td>...</td>\n",
       "      <td>...</td>\n",
       "      <td>...</td>\n",
       "      <td>...</td>\n",
       "      <td>...</td>\n",
       "      <td>...</td>\n",
       "      <td>...</td>\n",
       "      <td>...</td>\n",
       "      <td>...</td>\n",
       "      <td>...</td>\n",
       "      <td>...</td>\n",
       "      <td>...</td>\n",
       "    </tr>\n",
       "    <tr>\n",
       "      <td>3580</td>\n",
       "      <td>8373729</td>\n",
       "      <td>2014-07-31</td>\n",
       "      <td>19246369</td>\n",
       "      <td>within an hour</td>\n",
       "      <td>96%</td>\n",
       "      <td>f</td>\n",
       "      <td>['email', 'phone', 'reviews', 'jumio']</td>\n",
       "      <td>02143</td>\n",
       "      <td>t</td>\n",
       "      <td>Apartment</td>\n",
       "      <td>...</td>\n",
       "      <td>21</td>\n",
       "      <td>51</td>\n",
       "      <td>81</td>\n",
       "      <td>356</td>\n",
       "      <td>4</td>\n",
       "      <td>t</td>\n",
       "      <td>strict</td>\n",
       "      <td>f</td>\n",
       "      <td>f</td>\n",
       "      <td>8</td>\n",
       "    </tr>\n",
       "    <tr>\n",
       "      <td>3581</td>\n",
       "      <td>14844274</td>\n",
       "      <td>2015-07-02</td>\n",
       "      <td>37366454</td>\n",
       "      <td>a few days or more</td>\n",
       "      <td>10%</td>\n",
       "      <td>f</td>\n",
       "      <td>['email', 'phone', 'reviews', 'weibo', 'jumio']</td>\n",
       "      <td>02446</td>\n",
       "      <td>f</td>\n",
       "      <td>Apartment</td>\n",
       "      <td>...</td>\n",
       "      <td>29</td>\n",
       "      <td>59</td>\n",
       "      <td>89</td>\n",
       "      <td>364</td>\n",
       "      <td>0</td>\n",
       "      <td>f</td>\n",
       "      <td>strict</td>\n",
       "      <td>f</td>\n",
       "      <td>f</td>\n",
       "      <td>2</td>\n",
       "    </tr>\n",
       "    <tr>\n",
       "      <td>3582</td>\n",
       "      <td>14585486</td>\n",
       "      <td>2014-01-14</td>\n",
       "      <td>11311919</td>\n",
       "      <td>within a day</td>\n",
       "      <td>78%</td>\n",
       "      <td>f</td>\n",
       "      <td>['phone']</td>\n",
       "      <td>02141</td>\n",
       "      <td>f</td>\n",
       "      <td>Apartment</td>\n",
       "      <td>...</td>\n",
       "      <td>0</td>\n",
       "      <td>15</td>\n",
       "      <td>40</td>\n",
       "      <td>40</td>\n",
       "      <td>0</td>\n",
       "      <td>f</td>\n",
       "      <td>flexible</td>\n",
       "      <td>f</td>\n",
       "      <td>f</td>\n",
       "      <td>1</td>\n",
       "    </tr>\n",
       "    <tr>\n",
       "      <td>3583</td>\n",
       "      <td>14603878</td>\n",
       "      <td>2016-05-27</td>\n",
       "      <td>74318064</td>\n",
       "      <td>within an hour</td>\n",
       "      <td>100%</td>\n",
       "      <td>f</td>\n",
       "      <td>['email', 'phone', 'google', 'reviews', 'jumio']</td>\n",
       "      <td>02145</td>\n",
       "      <td>t</td>\n",
       "      <td>Apartment</td>\n",
       "      <td>...</td>\n",
       "      <td>5</td>\n",
       "      <td>5</td>\n",
       "      <td>5</td>\n",
       "      <td>253</td>\n",
       "      <td>2</td>\n",
       "      <td>f</td>\n",
       "      <td>strict</td>\n",
       "      <td>f</td>\n",
       "      <td>f</td>\n",
       "      <td>1</td>\n",
       "    </tr>\n",
       "    <tr>\n",
       "      <td>3584</td>\n",
       "      <td>14504422</td>\n",
       "      <td>2015-08-20</td>\n",
       "      <td>42070843</td>\n",
       "      <td>within an hour</td>\n",
       "      <td>100%</td>\n",
       "      <td>f</td>\n",
       "      <td>['email', 'phone', 'reviews', 'manual_offline'...</td>\n",
       "      <td>02145</td>\n",
       "      <td>t</td>\n",
       "      <td>Apartment</td>\n",
       "      <td>...</td>\n",
       "      <td>17</td>\n",
       "      <td>45</td>\n",
       "      <td>75</td>\n",
       "      <td>165</td>\n",
       "      <td>0</td>\n",
       "      <td>t</td>\n",
       "      <td>flexible</td>\n",
       "      <td>f</td>\n",
       "      <td>f</td>\n",
       "      <td>3</td>\n",
       "    </tr>\n",
       "  </tbody>\n",
       "</table>\n",
       "<p>3585 rows × 33 columns</p>\n",
       "</div>"
      ],
      "text/plain": [
       "            id  host_since   host_id  host_response_time host_response_rate  \\\n",
       "0     12147973  2015-04-15  31303940                 NaN                NaN   \n",
       "1      3075044  2012-06-07   2572247      within an hour               100%   \n",
       "2         6976  2009-05-11     16701  within a few hours               100%   \n",
       "3      1436513  2013-04-21   6031442  within a few hours               100%   \n",
       "4      7651065  2014-05-11  15396970      within an hour               100%   \n",
       "...        ...         ...       ...                 ...                ...   \n",
       "3580   8373729  2014-07-31  19246369      within an hour                96%   \n",
       "3581  14844274  2015-07-02  37366454  a few days or more                10%   \n",
       "3582  14585486  2014-01-14  11311919        within a day                78%   \n",
       "3583  14603878  2016-05-27  74318064      within an hour               100%   \n",
       "3584  14504422  2015-08-20  42070843      within an hour               100%   \n",
       "\n",
       "     host_is_superhost                                 host_verifications  \\\n",
       "0                    f          ['email', 'phone', 'facebook', 'reviews']   \n",
       "1                    f  ['email', 'phone', 'facebook', 'linkedin', 'am...   \n",
       "2                    t             ['email', 'phone', 'reviews', 'jumio']   \n",
       "3                    f                      ['email', 'phone', 'reviews']   \n",
       "4                    t               ['email', 'phone', 'reviews', 'kba']   \n",
       "...                ...                                                ...   \n",
       "3580                 f             ['email', 'phone', 'reviews', 'jumio']   \n",
       "3581                 f    ['email', 'phone', 'reviews', 'weibo', 'jumio']   \n",
       "3582                 f                                          ['phone']   \n",
       "3583                 f   ['email', 'phone', 'google', 'reviews', 'jumio']   \n",
       "3584                 f  ['email', 'phone', 'reviews', 'manual_offline'...   \n",
       "\n",
       "     zipcode is_location_exact property_type  ... availability_30  \\\n",
       "0      02131                 t         House  ...               0   \n",
       "1      02131                 t     Apartment  ...              26   \n",
       "2      02131                 t     Apartment  ...              19   \n",
       "3        NaN                 f         House  ...               6   \n",
       "4      02131                 t         House  ...              13   \n",
       "...      ...               ...           ...  ...             ...   \n",
       "3580   02143                 t     Apartment  ...              21   \n",
       "3581   02446                 f     Apartment  ...              29   \n",
       "3582   02141                 f     Apartment  ...               0   \n",
       "3583   02145                 t     Apartment  ...               5   \n",
       "3584   02145                 t     Apartment  ...              17   \n",
       "\n",
       "      availability_60  availability_90  availability_365  number_of_reviews  \\\n",
       "0                   0                0                 0                  0   \n",
       "1                  54               84               359                 36   \n",
       "2                  46               61               319                 41   \n",
       "3                  16               26                98                  1   \n",
       "4                  34               59               334                 29   \n",
       "...               ...              ...               ...                ...   \n",
       "3580               51               81               356                  4   \n",
       "3581               59               89               364                  0   \n",
       "3582               15               40                40                  0   \n",
       "3583                5                5               253                  2   \n",
       "3584               45               75               165                  0   \n",
       "\n",
       "     instant_bookable cancellation_policy require_guest_profile_picture  \\\n",
       "0                   f            moderate                             f   \n",
       "1                   t            moderate                             f   \n",
       "2                   f            moderate                             t   \n",
       "3                   f            moderate                             f   \n",
       "4                   f            flexible                             f   \n",
       "...               ...                 ...                           ...   \n",
       "3580                t              strict                             f   \n",
       "3581                f              strict                             f   \n",
       "3582                f            flexible                             f   \n",
       "3583                f              strict                             f   \n",
       "3584                t            flexible                             f   \n",
       "\n",
       "      require_guest_phone_verification calculated_host_listings_count  \n",
       "0                                    f                              1  \n",
       "1                                    f                              1  \n",
       "2                                    f                              1  \n",
       "3                                    f                              1  \n",
       "4                                    f                              1  \n",
       "...                                ...                            ...  \n",
       "3580                                 f                              8  \n",
       "3581                                 f                              2  \n",
       "3582                                 f                              1  \n",
       "3583                                 f                              1  \n",
       "3584                                 f                              3  \n",
       "\n",
       "[3585 rows x 33 columns]"
      ]
     },
     "execution_count": 418,
     "metadata": {},
     "output_type": "execute_result"
    }
   ],
   "source": [
    "# remove columsn with missing values more than 20 percent\n",
    "# sea_lis = sea_lis_colmiss_per.loc[:, sea_lis_colmiss_per.mean() > 0.2]\n",
    "sea_lis_2 = sea_lis_1.drop(columns=sea_lis_colmiss_per[sea_lis_colmiss_per>.2].index.values)\n",
    "sea_lis_2"
   ]
  },
  {
   "cell_type": "code",
   "execution_count": 419,
   "metadata": {},
   "outputs": [
    {
     "data": {
      "text/html": [
       "<div>\n",
       "<style scoped>\n",
       "    .dataframe tbody tr th:only-of-type {\n",
       "        vertical-align: middle;\n",
       "    }\n",
       "\n",
       "    .dataframe tbody tr th {\n",
       "        vertical-align: top;\n",
       "    }\n",
       "\n",
       "    .dataframe thead th {\n",
       "        text-align: right;\n",
       "    }\n",
       "</style>\n",
       "<table border=\"1\" class=\"dataframe\">\n",
       "  <thead>\n",
       "    <tr style=\"text-align: right;\">\n",
       "      <th></th>\n",
       "      <th>id</th>\n",
       "      <th>host_since</th>\n",
       "      <th>host_id</th>\n",
       "      <th>host_response_time</th>\n",
       "      <th>host_response_rate</th>\n",
       "      <th>host_is_superhost</th>\n",
       "      <th>host_verifications</th>\n",
       "      <th>zipcode</th>\n",
       "      <th>is_location_exact</th>\n",
       "      <th>property_type</th>\n",
       "      <th>...</th>\n",
       "      <th>availability_30</th>\n",
       "      <th>availability_60</th>\n",
       "      <th>availability_90</th>\n",
       "      <th>availability_365</th>\n",
       "      <th>number_of_reviews</th>\n",
       "      <th>instant_bookable</th>\n",
       "      <th>cancellation_policy</th>\n",
       "      <th>require_guest_profile_picture</th>\n",
       "      <th>require_guest_phone_verification</th>\n",
       "      <th>calculated_host_listings_count</th>\n",
       "    </tr>\n",
       "  </thead>\n",
       "  <tbody>\n",
       "    <tr>\n",
       "      <td>0</td>\n",
       "      <td>241032</td>\n",
       "      <td>2011-08-11</td>\n",
       "      <td>956883</td>\n",
       "      <td>within a few hours</td>\n",
       "      <td>96%</td>\n",
       "      <td>f</td>\n",
       "      <td>['email', 'phone', 'reviews', 'kba']</td>\n",
       "      <td>98119</td>\n",
       "      <td>t</td>\n",
       "      <td>Apartment</td>\n",
       "      <td>...</td>\n",
       "      <td>14</td>\n",
       "      <td>41</td>\n",
       "      <td>71</td>\n",
       "      <td>346</td>\n",
       "      <td>207</td>\n",
       "      <td>f</td>\n",
       "      <td>moderate</td>\n",
       "      <td>f</td>\n",
       "      <td>f</td>\n",
       "      <td>2</td>\n",
       "    </tr>\n",
       "    <tr>\n",
       "      <td>1</td>\n",
       "      <td>953595</td>\n",
       "      <td>2013-02-21</td>\n",
       "      <td>5177328</td>\n",
       "      <td>within an hour</td>\n",
       "      <td>98%</td>\n",
       "      <td>t</td>\n",
       "      <td>['email', 'phone', 'facebook', 'linkedin', 're...</td>\n",
       "      <td>98119</td>\n",
       "      <td>t</td>\n",
       "      <td>Apartment</td>\n",
       "      <td>...</td>\n",
       "      <td>13</td>\n",
       "      <td>13</td>\n",
       "      <td>16</td>\n",
       "      <td>291</td>\n",
       "      <td>43</td>\n",
       "      <td>f</td>\n",
       "      <td>strict</td>\n",
       "      <td>t</td>\n",
       "      <td>t</td>\n",
       "      <td>6</td>\n",
       "    </tr>\n",
       "    <tr>\n",
       "      <td>2</td>\n",
       "      <td>3308979</td>\n",
       "      <td>2014-06-12</td>\n",
       "      <td>16708587</td>\n",
       "      <td>within a few hours</td>\n",
       "      <td>67%</td>\n",
       "      <td>f</td>\n",
       "      <td>['email', 'phone', 'google', 'reviews', 'jumio']</td>\n",
       "      <td>98119</td>\n",
       "      <td>t</td>\n",
       "      <td>House</td>\n",
       "      <td>...</td>\n",
       "      <td>1</td>\n",
       "      <td>6</td>\n",
       "      <td>17</td>\n",
       "      <td>220</td>\n",
       "      <td>20</td>\n",
       "      <td>f</td>\n",
       "      <td>strict</td>\n",
       "      <td>f</td>\n",
       "      <td>f</td>\n",
       "      <td>2</td>\n",
       "    </tr>\n",
       "    <tr>\n",
       "      <td>3</td>\n",
       "      <td>7421966</td>\n",
       "      <td>2013-11-06</td>\n",
       "      <td>9851441</td>\n",
       "      <td>NaN</td>\n",
       "      <td>NaN</td>\n",
       "      <td>f</td>\n",
       "      <td>['email', 'phone', 'facebook', 'reviews', 'jum...</td>\n",
       "      <td>98119</td>\n",
       "      <td>t</td>\n",
       "      <td>Apartment</td>\n",
       "      <td>...</td>\n",
       "      <td>0</td>\n",
       "      <td>0</td>\n",
       "      <td>0</td>\n",
       "      <td>143</td>\n",
       "      <td>0</td>\n",
       "      <td>f</td>\n",
       "      <td>flexible</td>\n",
       "      <td>f</td>\n",
       "      <td>f</td>\n",
       "      <td>1</td>\n",
       "    </tr>\n",
       "    <tr>\n",
       "      <td>4</td>\n",
       "      <td>278830</td>\n",
       "      <td>2011-11-29</td>\n",
       "      <td>1452570</td>\n",
       "      <td>within an hour</td>\n",
       "      <td>100%</td>\n",
       "      <td>f</td>\n",
       "      <td>['email', 'phone', 'facebook', 'reviews', 'kba']</td>\n",
       "      <td>98119</td>\n",
       "      <td>t</td>\n",
       "      <td>House</td>\n",
       "      <td>...</td>\n",
       "      <td>30</td>\n",
       "      <td>60</td>\n",
       "      <td>90</td>\n",
       "      <td>365</td>\n",
       "      <td>38</td>\n",
       "      <td>f</td>\n",
       "      <td>strict</td>\n",
       "      <td>f</td>\n",
       "      <td>f</td>\n",
       "      <td>1</td>\n",
       "    </tr>\n",
       "    <tr>\n",
       "      <td>...</td>\n",
       "      <td>...</td>\n",
       "      <td>...</td>\n",
       "      <td>...</td>\n",
       "      <td>...</td>\n",
       "      <td>...</td>\n",
       "      <td>...</td>\n",
       "      <td>...</td>\n",
       "      <td>...</td>\n",
       "      <td>...</td>\n",
       "      <td>...</td>\n",
       "      <td>...</td>\n",
       "      <td>...</td>\n",
       "      <td>...</td>\n",
       "      <td>...</td>\n",
       "      <td>...</td>\n",
       "      <td>...</td>\n",
       "      <td>...</td>\n",
       "      <td>...</td>\n",
       "      <td>...</td>\n",
       "      <td>...</td>\n",
       "      <td>...</td>\n",
       "    </tr>\n",
       "    <tr>\n",
       "      <td>3813</td>\n",
       "      <td>8101950</td>\n",
       "      <td>2015-04-13</td>\n",
       "      <td>31148752</td>\n",
       "      <td>within a few hours</td>\n",
       "      <td>99%</td>\n",
       "      <td>f</td>\n",
       "      <td>['email', 'phone', 'linkedin', 'reviews', 'jum...</td>\n",
       "      <td>98107</td>\n",
       "      <td>t</td>\n",
       "      <td>House</td>\n",
       "      <td>...</td>\n",
       "      <td>18</td>\n",
       "      <td>32</td>\n",
       "      <td>32</td>\n",
       "      <td>32</td>\n",
       "      <td>1</td>\n",
       "      <td>f</td>\n",
       "      <td>strict</td>\n",
       "      <td>f</td>\n",
       "      <td>f</td>\n",
       "      <td>8</td>\n",
       "    </tr>\n",
       "    <tr>\n",
       "      <td>3814</td>\n",
       "      <td>8902327</td>\n",
       "      <td>2015-10-14</td>\n",
       "      <td>46566046</td>\n",
       "      <td>within an hour</td>\n",
       "      <td>100%</td>\n",
       "      <td>f</td>\n",
       "      <td>['email', 'phone', 'facebook', 'reviews', 'jum...</td>\n",
       "      <td>98102</td>\n",
       "      <td>t</td>\n",
       "      <td>Apartment</td>\n",
       "      <td>...</td>\n",
       "      <td>6</td>\n",
       "      <td>26</td>\n",
       "      <td>44</td>\n",
       "      <td>273</td>\n",
       "      <td>2</td>\n",
       "      <td>f</td>\n",
       "      <td>moderate</td>\n",
       "      <td>f</td>\n",
       "      <td>f</td>\n",
       "      <td>1</td>\n",
       "    </tr>\n",
       "    <tr>\n",
       "      <td>3815</td>\n",
       "      <td>10267360</td>\n",
       "      <td>2015-12-30</td>\n",
       "      <td>52791370</td>\n",
       "      <td>NaN</td>\n",
       "      <td>NaN</td>\n",
       "      <td>f</td>\n",
       "      <td>['phone']</td>\n",
       "      <td>98178</td>\n",
       "      <td>f</td>\n",
       "      <td>House</td>\n",
       "      <td>...</td>\n",
       "      <td>29</td>\n",
       "      <td>59</td>\n",
       "      <td>88</td>\n",
       "      <td>88</td>\n",
       "      <td>0</td>\n",
       "      <td>f</td>\n",
       "      <td>moderate</td>\n",
       "      <td>f</td>\n",
       "      <td>f</td>\n",
       "      <td>1</td>\n",
       "    </tr>\n",
       "    <tr>\n",
       "      <td>3816</td>\n",
       "      <td>9604740</td>\n",
       "      <td>2015-01-03</td>\n",
       "      <td>25522052</td>\n",
       "      <td>within an hour</td>\n",
       "      <td>100%</td>\n",
       "      <td>f</td>\n",
       "      <td>['email', 'phone', 'facebook', 'reviews', 'kba']</td>\n",
       "      <td>98112</td>\n",
       "      <td>f</td>\n",
       "      <td>Condominium</td>\n",
       "      <td>...</td>\n",
       "      <td>30</td>\n",
       "      <td>60</td>\n",
       "      <td>90</td>\n",
       "      <td>179</td>\n",
       "      <td>0</td>\n",
       "      <td>f</td>\n",
       "      <td>moderate</td>\n",
       "      <td>f</td>\n",
       "      <td>f</td>\n",
       "      <td>1</td>\n",
       "    </tr>\n",
       "    <tr>\n",
       "      <td>3817</td>\n",
       "      <td>10208623</td>\n",
       "      <td>2014-04-25</td>\n",
       "      <td>14703116</td>\n",
       "      <td>within a day</td>\n",
       "      <td>100%</td>\n",
       "      <td>f</td>\n",
       "      <td>['email', 'phone', 'reviews', 'kba']</td>\n",
       "      <td>98109</td>\n",
       "      <td>t</td>\n",
       "      <td>Apartment</td>\n",
       "      <td>...</td>\n",
       "      <td>7</td>\n",
       "      <td>7</td>\n",
       "      <td>7</td>\n",
       "      <td>7</td>\n",
       "      <td>0</td>\n",
       "      <td>f</td>\n",
       "      <td>flexible</td>\n",
       "      <td>f</td>\n",
       "      <td>f</td>\n",
       "      <td>1</td>\n",
       "    </tr>\n",
       "  </tbody>\n",
       "</table>\n",
       "<p>3818 rows × 33 columns</p>\n",
       "</div>"
      ],
      "text/plain": [
       "            id  host_since   host_id  host_response_time host_response_rate  \\\n",
       "0       241032  2011-08-11    956883  within a few hours                96%   \n",
       "1       953595  2013-02-21   5177328      within an hour                98%   \n",
       "2      3308979  2014-06-12  16708587  within a few hours                67%   \n",
       "3      7421966  2013-11-06   9851441                 NaN                NaN   \n",
       "4       278830  2011-11-29   1452570      within an hour               100%   \n",
       "...        ...         ...       ...                 ...                ...   \n",
       "3813   8101950  2015-04-13  31148752  within a few hours                99%   \n",
       "3814   8902327  2015-10-14  46566046      within an hour               100%   \n",
       "3815  10267360  2015-12-30  52791370                 NaN                NaN   \n",
       "3816   9604740  2015-01-03  25522052      within an hour               100%   \n",
       "3817  10208623  2014-04-25  14703116        within a day               100%   \n",
       "\n",
       "     host_is_superhost                                 host_verifications  \\\n",
       "0                    f               ['email', 'phone', 'reviews', 'kba']   \n",
       "1                    t  ['email', 'phone', 'facebook', 'linkedin', 're...   \n",
       "2                    f   ['email', 'phone', 'google', 'reviews', 'jumio']   \n",
       "3                    f  ['email', 'phone', 'facebook', 'reviews', 'jum...   \n",
       "4                    f   ['email', 'phone', 'facebook', 'reviews', 'kba']   \n",
       "...                ...                                                ...   \n",
       "3813                 f  ['email', 'phone', 'linkedin', 'reviews', 'jum...   \n",
       "3814                 f  ['email', 'phone', 'facebook', 'reviews', 'jum...   \n",
       "3815                 f                                          ['phone']   \n",
       "3816                 f   ['email', 'phone', 'facebook', 'reviews', 'kba']   \n",
       "3817                 f               ['email', 'phone', 'reviews', 'kba']   \n",
       "\n",
       "     zipcode is_location_exact property_type  ... availability_30  \\\n",
       "0      98119                 t     Apartment  ...              14   \n",
       "1      98119                 t     Apartment  ...              13   \n",
       "2      98119                 t         House  ...               1   \n",
       "3      98119                 t     Apartment  ...               0   \n",
       "4      98119                 t         House  ...              30   \n",
       "...      ...               ...           ...  ...             ...   \n",
       "3813   98107                 t         House  ...              18   \n",
       "3814   98102                 t     Apartment  ...               6   \n",
       "3815   98178                 f         House  ...              29   \n",
       "3816   98112                 f   Condominium  ...              30   \n",
       "3817   98109                 t     Apartment  ...               7   \n",
       "\n",
       "      availability_60  availability_90  availability_365  number_of_reviews  \\\n",
       "0                  41               71               346                207   \n",
       "1                  13               16               291                 43   \n",
       "2                   6               17               220                 20   \n",
       "3                   0                0               143                  0   \n",
       "4                  60               90               365                 38   \n",
       "...               ...              ...               ...                ...   \n",
       "3813               32               32                32                  1   \n",
       "3814               26               44               273                  2   \n",
       "3815               59               88                88                  0   \n",
       "3816               60               90               179                  0   \n",
       "3817                7                7                 7                  0   \n",
       "\n",
       "     instant_bookable cancellation_policy require_guest_profile_picture  \\\n",
       "0                   f            moderate                             f   \n",
       "1                   f              strict                             t   \n",
       "2                   f              strict                             f   \n",
       "3                   f            flexible                             f   \n",
       "4                   f              strict                             f   \n",
       "...               ...                 ...                           ...   \n",
       "3813                f              strict                             f   \n",
       "3814                f            moderate                             f   \n",
       "3815                f            moderate                             f   \n",
       "3816                f            moderate                             f   \n",
       "3817                f            flexible                             f   \n",
       "\n",
       "      require_guest_phone_verification calculated_host_listings_count  \n",
       "0                                    f                              2  \n",
       "1                                    t                              6  \n",
       "2                                    f                              2  \n",
       "3                                    f                              1  \n",
       "4                                    f                              1  \n",
       "...                                ...                            ...  \n",
       "3813                                 f                              8  \n",
       "3814                                 f                              1  \n",
       "3815                                 f                              1  \n",
       "3816                                 f                              1  \n",
       "3817                                 f                              1  \n",
       "\n",
       "[3818 rows x 33 columns]"
      ]
     },
     "execution_count": 419,
     "metadata": {},
     "output_type": "execute_result"
    }
   ],
   "source": [
    "# remove columsn with missing values more than 16 percent\n",
    "# bos_lis = bos_lis_colmiss_per.loc[:, bos_lis_colmiss_per.mean() > 0.2]\n",
    "bos_lis_2 = bos_lis_1.drop(columns=bos_lis_colmiss_per[bos_lis_colmiss_per>.16].index.values)\n",
    "bos_lis_2"
   ]
  },
  {
   "cell_type": "code",
   "execution_count": 420,
   "metadata": {},
   "outputs": [
    {
     "data": {
      "text/plain": [
       "host_response_time    471\n",
       "host_response_rate    471\n",
       "zipcode                38\n",
       "property_type           3\n",
       "bathrooms              14\n",
       "bedrooms               10\n",
       "beds                    9\n",
       "dtype: int64"
      ]
     },
     "execution_count": 420,
     "metadata": {},
     "output_type": "execute_result"
    }
   ],
   "source": [
    "sea_lis_3 = sea_lis_2.isnull().sum() \n",
    "sea_lis_3[sea_lis_3 > 0]\n",
    "# sea_lis_3"
   ]
  },
  {
   "cell_type": "code",
   "execution_count": 421,
   "metadata": {},
   "outputs": [
    {
     "data": {
      "text/plain": [
       "host_since              2\n",
       "host_response_time    523\n",
       "host_response_rate    523\n",
       "host_is_superhost       2\n",
       "zipcode                 7\n",
       "bathrooms              16\n",
       "bedrooms                6\n",
       "dtype: int64"
      ]
     },
     "execution_count": 421,
     "metadata": {},
     "output_type": "execute_result"
    }
   ],
   "source": [
    "bos_lis_3 = bos_lis_2.isnull().sum()\n",
    "bos_lis_3[bos_lis_3 > 1]\n",
    "# bos_lis_3"
   ]
  },
  {
   "cell_type": "markdown",
   "metadata": {},
   "source": [
    "fill the missing values with mean, mode using impute method"
   ]
  },
  {
   "cell_type": "raw",
   "metadata": {},
   "source": [
    "for seattle listing dataset\n",
    "host_response_time,zipcode -- Mode\n",
    "host_respose_rate, bathrooms, bedrooms, beds -- Mean\n",
    "\n",
    "for calendar dataset\n",
    "price - mean"
   ]
  },
  {
   "cell_type": "code",
   "execution_count": 422,
   "metadata": {},
   "outputs": [],
   "source": [
    "\n",
    "imp_mode = SimpleImputer(strategy='most_frequent')\n",
    "sea_lis_2[['host_response_time','zipcode','property_type']] = imp_mode.fit_transform(sea_lis_2[['host_response_time','zipcode','property_type']])\n",
    "sea_lis_2[['host_response_rate','bathrooms','bedrooms','beds']] = imp_mode.fit_transform(sea_lis_2[['host_response_rate','bathrooms','bedrooms','beds']])\n",
    "\n"
   ]
  },
  {
   "cell_type": "code",
   "execution_count": 423,
   "metadata": {},
   "outputs": [],
   "source": [
    "sea_cal_1[['price']] = imp_mode.fit_transform(sea_cal_1[['price']])"
   ]
  },
  {
   "cell_type": "raw",
   "metadata": {},
   "source": [
    "for boston listing dataset\n",
    "host_is_superhost,host_since,host_response_time,zipcode,property_type -- Mode\n",
    "host_respose_rate, bathrooms, bedrooms, beds -- Mean\n",
    "\n",
    "for calendar dataset\n",
    "price - mean"
   ]
  },
  {
   "cell_type": "code",
   "execution_count": 424,
   "metadata": {},
   "outputs": [],
   "source": [
    "\n",
    "imp_mode = SimpleImputer(strategy='most_frequent')\n",
    "bos_lis_2[['host_is_superhost','host_since','host_response_time','zipcode']] = imp_mode.fit_transform(bos_lis_2[['host_is_superhost','host_since','host_response_time','zipcode']])\n",
    "bos_lis_2[['host_response_rate','bathrooms','bedrooms','beds']] = imp_mode.fit_transform(bos_lis_2[['host_response_rate','bathrooms','bedrooms','beds']])\n"
   ]
  },
  {
   "cell_type": "code",
   "execution_count": null,
   "metadata": {},
   "outputs": [],
   "source": [
    "bos_cal_1[['price']] = imp_mode.fit_transform(bos_cal_1[['price']])"
   ]
  },
  {
   "cell_type": "code",
   "execution_count": null,
   "metadata": {},
   "outputs": [],
   "source": [
    "sea_lis_2.info()"
   ]
  },
  {
   "cell_type": "code",
   "execution_count": null,
   "metadata": {},
   "outputs": [],
   "source": [
    "bos_lis_2.info()"
   ]
  },
  {
   "cell_type": "markdown",
   "metadata": {},
   "source": [
    "# Transform certain features"
   ]
  },
  {
   "cell_type": "code",
   "execution_count": null,
   "metadata": {},
   "outputs": [],
   "source": [
    "# clean price columns as it is string value because of symbols\n",
    "s1 = '$296,05.00'\n",
    "out = float(str(s1).replace(',', '').split('$')[-1])\n",
    "# out = s1.extra_people.map(lambda str_price: str_price[1:]).str.replace(',', '').astype(float)\n",
    "out\n"
   ]
  },
  {
   "cell_type": "code",
   "execution_count": null,
   "metadata": {},
   "outputs": [],
   "source": [
    "def clean_price(price_conv):\n",
    "    '''\n",
    "    Converts USD prices from string to numeric format\n",
    "    \n",
    "    Args:\n",
    "        price_conv (string): USD price in string format (e.g., '$123,456.00')\n",
    "    \n",
    "    Returns:\n",
    "        out (float): USD price in numeric format (e.g., 123456.00)\n",
    "    '''\n",
    "    out = float(str(price_conv).replace(',', '').split('$')[-1])\n",
    "    return out\n",
    "    "
   ]
  },
  {
   "cell_type": "code",
   "execution_count": null,
   "metadata": {},
   "outputs": [],
   "source": [
    "bos_cal_1.head(2)"
   ]
  },
  {
   "cell_type": "code",
   "execution_count": null,
   "metadata": {},
   "outputs": [],
   "source": [
    "def bool_to_num(s):\n",
    "    '''\n",
    "    Converts \"first letter boolean\" strings to integers\n",
    "    \n",
    "    Args:\n",
    "        bool_string (string): 't', 'f' or other\n",
    "    \n",
    "    Returns:\n",
    "        bool_number (int): 1, 0 or None\n",
    "    '''\n",
    "    \n",
    "    if s == 'f':\n",
    "        return 0\n",
    "    elif s == 't':\n",
    "        return 1\n",
    "    return None"
   ]
  },
  {
   "cell_type": "code",
   "execution_count": null,
   "metadata": {},
   "outputs": [],
   "source": [
    "# a = '2019-08-15'\n",
    "# b = '2018-07-13'"
   ]
  },
  {
   "cell_type": "code",
   "execution_count": null,
   "metadata": {},
   "outputs": [],
   "source": [
    "# (date_format(a) - date_format(b)).days"
   ]
  },
  {
   "cell_type": "code",
   "execution_count": null,
   "metadata": {},
   "outputs": [],
   "source": [
    "def date_format(dat):\n",
    "    '''\n",
    "    Converts \"string to date\n",
    "    \n",
    "    '''\n",
    "    string = datetime.strptime(dat,\"%Y-%M-%d\")\n",
    "#     string = str(dat).replace('-',', ').strip('')\n",
    "#     if string.startswith(\"'\") and string.endswith(\"'\"):\n",
    "#     string = string[1:-1]\n",
    "    print(type(string))\n",
    "    return string\n",
    "\n",
    "date_format(a)\n"
   ]
  },
  {
   "cell_type": "code",
   "execution_count": null,
   "metadata": {},
   "outputs": [],
   "source": [
    "print(sea_lis_2['zipcode'])"
   ]
  },
  {
   "cell_type": "code",
   "execution_count": null,
   "metadata": {},
   "outputs": [],
   "source": [
    "# ## Zipcode: remove unnecessary details or typos\n",
    "# ## extract numbers \n",
    "# sea_lis_2.zipcode[sea_lis_2.zipcode.str.contains('[^0-9]', regex=True)] = sea_lis_2.zipcode.str.extract(r'(?:[^0-9])(\\d+)')[0].value_counts().index[0]\n",
    "# bos_lis_2.zipcode = bos_lis_2.zipcode.str.extract(r'(\\d+)(?<![^0-9])')[0]"
   ]
  },
  {
   "cell_type": "code",
   "execution_count": null,
   "metadata": {},
   "outputs": [],
   "source": [
    "print(sea_lis_2['price'])"
   ]
  },
  {
   "cell_type": "code",
   "execution_count": null,
   "metadata": {},
   "outputs": [],
   "source": [
    "print(sea_lis_2['extra_people'])"
   ]
  },
  {
   "cell_type": "code",
   "execution_count": null,
   "metadata": {},
   "outputs": [],
   "source": [
    "## Price & extra_people: str -> float\n",
    "## drop '$' and ','\n",
    "sea_lis_2.price = sea_lis_2['price'].apply(clean_price)\n",
    "bos_lis_2.price = bos_lis_2['price'].apply(clean_price)\n",
    "sea_lis.extra_people = sea_lis_2['extra_people'].apply(clean_price)\n",
    "bos_lis.extra_people = bos_lis_2['extra_people'].apply(clean_price)"
   ]
  },
  {
   "cell_type": "code",
   "execution_count": null,
   "metadata": {},
   "outputs": [],
   "source": [
    "print(sea_lis_2['host_since'])"
   ]
  },
  {
   "cell_type": "code",
   "execution_count": null,
   "metadata": {},
   "outputs": [],
   "source": [
    "## host_since: change to days (difference of last day of dataframe and host_since)\n",
    "## Get last day as baseline point\n",
    "from datetime import date\n",
    "sea_now = sea_lis_2.host_since.max()\n",
    "bos_now = bos_lis_2.host_since.max()\n",
    "\n",
    "# print(type(sea_now))\n",
    "# print(type(sea_lis_2['host_since']))\n",
    "# sea_lis_2['host_since'] = sea_lis_2['host_since'].apply(date_format)\n",
    "# bos_lis_2['host_since'] = bos_lis_2['host_since'].apply(date_format)\n",
    "\n",
    "## retrieve days of difference from basline date\n",
    "sea_lis_2['host_days'] = sea_lis_2.host_since.map(lambda x: (date_format(sea_now) - date_format(x)).days)\n",
    "bos_lis_2['host_days'] = bos_lis_2.host_since.map(lambda x: (date_format(bos_now) - date_format(x)).days)\n",
    "# ## drop host_since column\n",
    "sea_lis_2 = sea_lis_2.drop(columns=['host_since'])\n",
    "bos_lis_2 = bos_lis_2.drop(columns=['host_since'])"
   ]
  },
  {
   "cell_type": "code",
   "execution_count": null,
   "metadata": {},
   "outputs": [],
   "source": [
    "## host_verifications \n",
    "### seattle\n",
    "sea_lis_2.host_verifications = sea_lis_2.host_verifications.replace(['[]', 'None'], \"['none']\")\n",
    "### define seattle categorical dummy dataframe\n",
    "sea_lis_2 = pd.get_dummies(sea_lis_2.host_verifications.map(literal_eval).apply(pd.Series).stack(), prefix='host_ver').sum(level=0)\n",
    "### boston\n",
    "bos_lis_2.host_verifications = bos_lis_2.host_verifications.replace(['[]', 'None'], \"['none']\")\n",
    "### define boston categorical dummy dataframe\n",
    "bos_lis_2 = pd.get_dummies(bos_lis_2.host_verifications.map(literal_eval).apply(pd.Series).stack(), prefix='host_ver').sum(level=0)\n",
    "### unify column width and order\n",
    "bos_cat['host_ver_photographer'] = 0\n",
    "bos_cat.columns = sea_cat.columns\n",
    "## drop host_verifications from sea_df, bos_df\n",
    "sea_lis_2 = sea_lis_2.drop(columns=['host_verifications'])\n",
    "bos_lis_2 = bos_lis_2.drop(columns=['host_verifications'])"
   ]
  },
  {
   "cell_type": "code",
   "execution_count": null,
   "metadata": {},
   "outputs": [],
   "source": [
    "## amenities\n",
    "### change format to string list same as host_verifications\n",
    "sea_lis_2['amenities'] = sea_lis_2['amenities'].map(lambda d: [amenity.replace('\"', \"\").replace(\"{\", \"\").replace(\"}\", \"\") for amenity in d.split(\",\")]).astype(str)\n",
    "bos_lis_2['amenities'] = bos_lis_2['amenities'].map(lambda d: [amenity.replace('\"', \"\").replace(\"{\", \"\").replace(\"}\", \"\") for amenity in d.split(\",\")]).astype(str)\n",
    "\n",
    "### seattle\n",
    "sea_lis_2.amenities = sea_lis_2.amenities.replace(\"['']\", \"['none']\")\n",
    "### boston\n",
    "bos_lis_2.amenities = bos_lis_2.amenities.replace(\"['']\", \"['none']\")\n",
    "## temporary dataframe before adding to sea_cat\n",
    "temp1 = pd.get_dummies(sea_lis_2.amenities.map(literal_eval).apply(pd.Series).stack(), prefix='amenities').sum(level=0)\n",
    "## temporary dataframe before adding to bos_cat\n",
    "temp2 = pd.get_dummies(bos_lis_2.amenities.map(literal_eval).apply(pd.Series).stack(), prefix='amenities').sum(level=0)\n",
    "### unify column width and order\n",
    "cols = ['amenities_Free Parking on Street',\n",
    "        'amenities_Paid Parking Off Premises',\n",
    "        'amenities_translation missing: en.hosting_amenity_49',\n",
    "        'amenities_translation missing: en.hosting_amenity_50']\n",
    "for col in cols:\n",
    "    temp1[col] = 0\n",
    "temp2.columns = temp1.columns\n",
    "## concatenate dummy variable dataframes\n",
    "sea_cat = pd.concat([sea_cat, temp1], axis=1)\n",
    "bos_cat = pd.concat([bos_cat, temp2], axis=1)\n",
    "## drop amenities from sea_df, bos_df\n",
    "sea_lis_2 = sea_lis_2.drop(columns=['amenities'])\n",
    "bos_lis_2 = bos_lis_2.drop(columns=['amenities'])"
   ]
  },
  {
   "cell_type": "markdown",
   "metadata": {},
   "source": [
    "# Processing categorical variables"
   ]
  },
  {
   "cell_type": "code",
   "execution_count": null,
   "metadata": {},
   "outputs": [],
   "source": [
    "# Processing categorical variables\n",
    "sea_cat_2 = sea_lis_2.select_dtypes(include=[object]).drop(columns=['zipcode'])\n",
    "bos_cat_2 = bos_lis_2.select_dtypes(include=[object]).drop(columns=['zipcode'])"
   ]
  },
  {
   "cell_type": "code",
   "execution_count": null,
   "metadata": {},
   "outputs": [],
   "source": [
    "## get dummy variables for categoricals\n",
    "bos_cat_2 = pd.get_dummies(bos_cat_2)\n",
    "sea_cat_2 = pd.get_dummies(sea_cat_2)\n",
    "\n",
    "## make column width same\n",
    "for col in set(bos_cat_2.columns) - set(sea_cat_2.columns):\n",
    "    sea_cat_2[col] = 0\n",
    "    \n",
    "## make column order same\n",
    "sea_cat_2.columns = bos_cat_2.columns\n",
    "\n",
    "## merge all categorical dataframes\n",
    "sea_cat = pd.concat([sea_cat, sea_cat_2], axis=1)\n",
    "bos_cat = pd.concat([bos_cat, bos_cat_2], axis=1)"
   ]
  },
  {
   "cell_type": "code",
   "execution_count": null,
   "metadata": {},
   "outputs": [],
   "source": [
    "## putting it all together (df, num, cat)\n",
    "sea_lis_2 = pd.concat([sea_lis_2[['id', 'host_id', 'zipcode', 'price']], sea_num, sea_cat], axis=1)\n",
    "bos_lis_2 = pd.concat([bos_lis_2[['id', 'host_id', 'zipcode', 'price']], bos_num, bos_cat], axis=1)\n",
    "\n",
    "## for EDA, getting not standardized numericals\n",
    "sea_df_nostd = pd.concat([sea_lis_2[['id', 'host_id', 'zipcode', 'price']], sea_num_no_std, sea_cat], axis=1)\n",
    "bos_df_nostd = pd.concat([bos_lis_2[['id', 'host_id', 'zipcode', 'price']], bos_num_no_std, bos_cat], axis=1)"
   ]
  },
  {
   "cell_type": "code",
   "execution_count": null,
   "metadata": {},
   "outputs": [],
   "source": [
    "sea_lis_2.head(3)"
   ]
  },
  {
   "cell_type": "markdown",
   "metadata": {},
   "source": [
    "# Processing numerical variables - Standardization"
   ]
  },
  {
   "cell_type": "code",
   "execution_count": null,
   "metadata": {},
   "outputs": [],
   "source": [
    "\n",
    "## Retrieve numerical features\n",
    "sea_num_no_std = sea_lis_2.select_dtypes(include=[int, float]).drop(columns=['id', 'host_id', 'price'])\n",
    "bos_num_no_std = bos_lis_2.select_dtypes(include=[int, float]).drop(columns=['id', 'host_id', 'price'])\n",
    "\n",
    "## make copy\n",
    "sea_num = sea_num_no_std.copy()\n",
    "bos_num = bos_num_no_std.copy()\n",
    "\n",
    "## standardizing them\n",
    "scaler = StandardScaler()\n",
    "sea_num[sea_num.columns] = scaler.fit_transform(sea_num_no_std)\n",
    "bos_num[bos_num.columns] = scaler.fit_transform(bos_num_no_std)"
   ]
  },
  {
   "cell_type": "code",
   "execution_count": null,
   "metadata": {},
   "outputs": [],
   "source": []
  },
  {
   "cell_type": "code",
   "execution_count": null,
   "metadata": {},
   "outputs": [],
   "source": []
  },
  {
   "cell_type": "markdown",
   "metadata": {},
   "source": [
    "# Q1) How do price increase/decrease in a season and peak season?"
   ]
  },
  {
   "cell_type": "code",
   "execution_count": 110,
   "metadata": {},
   "outputs": [],
   "source": [
    "# for this we take calendar data from both cities to analyze"
   ]
  },
  {
   "cell_type": "code",
   "execution_count": 111,
   "metadata": {},
   "outputs": [],
   "source": [
    "price_cols = ['price']\n",
    "bool_cols = ['available']"
   ]
  },
  {
   "cell_type": "code",
   "execution_count": 112,
   "metadata": {},
   "outputs": [],
   "source": [
    "# clean price column\n",
    "for col in price_cols:\n",
    "    sea_cal_1[col] = sea_cal_1[col].apply(clean_price)\n",
    "    bos_cal_1[col] = bos_cal_1[col].apply(clean_price)\n",
    "    "
   ]
  },
  {
   "cell_type": "code",
   "execution_count": 113,
   "metadata": {},
   "outputs": [],
   "source": [
    "# convert available column from bool to num\n",
    "for col in bool_cols:\n",
    "    sea_cal_1[col] = sea_cal_1[col].apply(bool_to_num)\n",
    "    bos_cal_1[col] = bos_cal_1[col].apply(bool_to_num)"
   ]
  },
  {
   "cell_type": "code",
   "execution_count": 114,
   "metadata": {},
   "outputs": [],
   "source": [
    "# calculate mean price for each month to analyze the peak season\n",
    "# seattle dataset\n",
    "\n",
    "sea_cal_1['year'] = pd.DatetimeIndex(sea_cal_1['date']).year\n",
    "sea_cal_1['month'] = pd.DatetimeIndex(sea_cal_1['date']).month\n",
    "sea_cal_1['price'] = sea_cal_1['price']\n",
    "\n",
    "# boston dataset\n",
    "\n",
    "bos_cal_1['year'] = pd.DatetimeIndex(bos_cal_1['date']).year\n",
    "bos_cal_1['month'] = pd.DatetimeIndex(bos_cal_1['date']).month\n",
    "bos_cal_1['price'] = bos_cal_1['price']"
   ]
  },
  {
   "cell_type": "code",
   "execution_count": 115,
   "metadata": {},
   "outputs": [
    {
     "data": {
      "text/plain": [
       "<matplotlib.axes._subplots.AxesSubplot at 0x7f1afb26c940>"
      ]
     },
     "execution_count": 115,
     "metadata": {},
     "output_type": "execute_result"
    },
    {
     "data": {
      "image/png": "[encoded data removed]",
      "text/plain": [
       "<Figure size 432x288 with 1 Axes>"
      ]
     },
     "metadata": {
      "needs_background": "light"
     },
     "output_type": "display_data"
    }
   ],
   "source": [
    "# plot seattle dataset\n",
    "\n",
    "sea_cal_1.groupby(['year','month'])[['price']].mean().plot(kind='bar')"
   ]
  },
  {
   "cell_type": "code",
   "execution_count": 116,
   "metadata": {},
   "outputs": [
    {
     "data": {
      "text/plain": [
       "<matplotlib.axes._subplots.AxesSubplot at 0x7f1afb1d86a0>"
      ]
     },
     "execution_count": 116,
     "metadata": {},
     "output_type": "execute_result"
    },
    {
     "data": {
      "image/png": "[encoded data removed]",
      "text/plain": [
       "<Figure size 432x288 with 1 Axes>"
      ]
     },
     "metadata": {
      "needs_background": "light"
     },
     "output_type": "display_data"
    }
   ],
   "source": [
    "# plot seattle dataset\n",
    "\n",
    "bos_cal_1.groupby(['year','month'])[['price']].mean().plot(kind='bar')"
   ]
  },
  {
   "cell_type": "code",
   "execution_count": null,
   "metadata": {},
   "outputs": [],
   "source": []
  },
  {
   "cell_type": "markdown",
   "metadata": {},
   "source": [
    "# Q2) What are the important factors that influence price in both cities?"
   ]
  },
  {
   "cell_type": "code",
   "execution_count": null,
   "metadata": {},
   "outputs": [],
   "source": []
  }
 ],
 "metadata": {
  "kernelspec": {
   "display_name": "Python 3",
   "language": "python",
   "name": "python3"
  },
  "language_info": {
   "codemirror_mode": {
    "name": "ipython",
    "version": 3
   },
   "file_extension": ".py",
   "mimetype": "text/x-python",
   "name": "python",
   "nbconvert_exporter": "python",
   "pygments_lexer": "ipython3",
   "version": "3.6.8"
  }
 },
 "nbformat": 4,
 "nbformat_minor": 2
}
