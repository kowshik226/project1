{
 "cells": [
  {
   "cell_type": "code",
   "execution_count": 1,
   "metadata": {},
   "outputs": [
    {
     "name": "stderr",
     "output_type": "stream",
     "text": [
      "[nltk_data] Downloading package vader_lexicon to\n",
      "[nltk_data]     /home/prabhumanickavelu/nltk_data...\n",
      "[nltk_data]   Package vader_lexicon is already up-to-date!\n"
     ]
    }
   ],
   "source": [
    "import pandas as pd\n",
    "import numpy as np\n",
    "import matplotlib.pyplot as plt\n",
    "from IPython import display\n",
    "%matplotlib inline\n",
    "from os import path, getcwd\n",
    "import seaborn as sns\n",
    "import csv\n",
    "from datetime import datetime\n",
    "from sklearn.impute import SimpleImputer\n",
    "from collections import Counter\n",
    "from sklearn.preprocessing import MinMaxScaler\n",
    "from sklearn.preprocessing import Imputer, StandardScaler\n",
    "from sklearn.model_selection import train_test_split\n",
    "from sklearn.model_selection import GridSearchCV\n",
    "from sklearn.metrics import make_scorer\n",
    "from sklearn.metrics import fbeta_score, accuracy_score\n",
    "from sklearn.ensemble import AdaBoostClassifier\n",
    "from sklearn.tree import DecisionTreeClassifier\n",
    "from sklearn.feature_extraction.text import CountVectorizer\n",
    "from scipy.sparse import csr_matrix\n",
    "from PIL import Image\n",
    "from wordcloud import WordCloud, STOPWORDS, ImageColorGenerator\n",
    "import string\n",
    "import nltk\n",
    "nltk.downloader.download('vader_lexicon')\n",
    "from nltk.sentiment import SentimentIntensityAnalyzer\n",
    "from langdetect import detect "
   ]
  },
  {
   "cell_type": "code",
   "execution_count": 2,
   "metadata": {},
   "outputs": [],
   "source": [
    "def boost_classifier(clf, parameters, feature_df, labels):\n",
    "    '''\n",
    "    Optimize the classifier\n",
    "\n",
    "    INPUTS\n",
    "    clf        - Model object from sklearn\n",
    "    feature_df - DataFrame of features\n",
    "    labels     - Response variable\n",
    "\n",
    "    OUTPUTS\n",
    "    X_train, X_test, y_train, y_test - output from sklearn train test split\n",
    "    best_clf - Optimized model\n",
    "    '''\n",
    "\n",
    "    # Split the 'features' and 'label' data into training and testing sets\n",
    "    X_train, X_test, y_train, y_test = train_test_split(feature_df, labels, test_size = 0.3, random_state = 0)\n",
    "\n",
    "    # Make an fbeta_score scoring object using make_scorer()\n",
    "    scorer = make_scorer(fbeta_score,beta=0.5)\n",
    "\n",
    "    # Perform grid search on the classifier using 'scorer' as the scoring method using GridSearchCV()\n",
    "    grid_obj = GridSearchCV(clf, parameters, scorer, n_jobs=-1)\n",
    "\n",
    "    # Fit the grid search object to the training data and find the optimal parameters using fit()\n",
    "    grid_fit = grid_obj.fit(X_train,y_train)\n",
    "\n",
    "    # Get the estimator\n",
    "    best_clf = grid_fit.best_estimator_\n",
    "\n",
    "    return best_clf, X_train, X_test, y_train, y_test"
   ]
  },
  {
   "cell_type": "code",
   "execution_count": 12,
   "metadata": {},
   "outputs": [],
   "source": [
    "def prediction_scores(clf, X_train, X_test, y_train, y_test):\n",
    "    '''\n",
    "    INPUTS\n",
    "    clf - Model object from sklearn\n",
    "    X_train, X_test, y_train, y_test - output from sklearn train test split\n",
    "\n",
    "    OUTPUTS\n",
    "    test_accuracy  - Accuracy score on test data\n",
    "    train_accuracy - Accuracy score on train data\n",
    "    '''\n",
    "\n",
    "    # Make predictions using the model\n",
    "    test_preds = (clf.fit(X_train, y_train)).predict(X_test)\n",
    "    train_preds = (clf.fit(X_train, y_train)).predict(X_train)\n",
    "\n",
    "    # Calculate accuracy for the model\n",
    "    test_accuracy = accuracy_score(y_test, test_preds)\n",
    "    train_accuracy = accuracy_score(y_train, train_preds)\n",
    "\n",
    "    return test_accuracy, train_accuracy"
   ]
  },
  {
   "cell_type": "code",
   "execution_count": 13,
   "metadata": {},
   "outputs": [],
   "source": [
    "def print_scores(test_accuracy, train_accuracy):\n",
    "    '''\n",
    "    INPUTS\n",
    "    test_accuracy  - Accuracy score on test data\n",
    "    train_accuracy - Accuracy score on train data\n",
    "    OUTPUTS\n",
    "    Prints accuracy scores\n",
    "    '''\n",
    "\n",
    "    print(\"Accuracy score on testing data: {:.4f}\".format(test_accuracy))\n",
    "    print(\"Accuracy score on training data: {:.4f}\".format(train_accuracy))"
   ]
  },
  {
   "cell_type": "code",
   "execution_count": 14,
   "metadata": {},
   "outputs": [],
   "source": [
    "def create_text_features(text_df):\n",
    "    '''\n",
    "    INPUT\n",
    "    text_df - DataFrame with text data\n",
    "    OUTPUT\n",
    "    scaled_df - scaled text features \n",
    "    '''\n",
    "\n",
    "\n",
    "    vectorizer = CountVectorizer(min_df=5).fit(text_df)\n",
    "    text_features = vectorizer.transform(text_df)\n",
    "    text_features = pd.SparseDataFrame([ pd.SparseSeries(text_features[i].toarray().ravel()) \\\n",
    "                              for i in np.arange(text_features.shape[0]) ])\n",
    "\n",
    "\n",
    "    text_features.columns = vectorizer.get_feature_names()\n",
    "    text_features.index = text_features.index\n",
    "\n",
    "    num_feat = list(text_features.select_dtypes(include = ['int64','float64']).columns)\n",
    "    scaler = MinMaxScaler()\n",
    "    scaled_df = text_features.copy()\n",
    "    scaled_df[num_feat] = scaler.fit_transform(text_features[num_feat])\n",
    "\n",
    "    return scaled_df"
   ]
  },
  {
   "cell_type": "code",
   "execution_count": null,
   "metadata": {},
   "outputs": [],
   "source": []
  }
 ],
 "metadata": {
  "kernelspec": {
   "display_name": "Python 3",
   "language": "python",
   "name": "python3"
  },
  "language_info": {
   "codemirror_mode": {
    "name": "ipython",
    "version": 3
   },
   "file_extension": ".py",
   "mimetype": "text/x-python",
   "name": "python",
   "nbconvert_exporter": "python",
   "pygments_lexer": "ipython3",
   "version": "3.6.8"
  }
 },
 "nbformat": 4,
 "nbformat_minor": 2
}
