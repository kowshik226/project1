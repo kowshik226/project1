{
 "cells": [
  {
   "cell_type": "markdown",
   "metadata": {},
   "source": [
    "# Analysing Boston AirBnb Datasets"
   ]
  },
  {
   "cell_type": "markdown",
   "metadata": {},
   "source": [
    "For this project i will follow the following steps using Cross-industry standard process for data mining(CRISP-DM)\n",
    "\n",
    "1. Business Understanding\n",
    "2. Data Understanding\n",
    "3. Prepare data\n",
    "4. Data Modeling\n",
    "5. Evaluate The results\n",
    "6. Deploy"
   ]
  },
  {
   "cell_type": "markdown",
   "metadata": {},
   "source": [
    "# Business Understanding"
   ]
  },
  {
   "cell_type": "markdown",
   "metadata": {},
   "source": [
    "What kind of answers we get from the data using the below questions\n",
    "\n",
    "1. How do price increase/decrease in a season and peak season?\n",
    "2. Analyze what do people think about AirBnb based on reviews?\n",
    "3. What are the important factors that influence price in boston ?\n",
    "4. How many properties owned by host/vendor?\n"
   ]
  },
  {
   "cell_type": "markdown",
   "metadata": {},
   "source": [
    "# Data Understanding"
   ]
  },
  {
   "cell_type": "code",
   "execution_count": 96,
   "metadata": {},
   "outputs": [
    {
     "name": "stderr",
     "output_type": "stream",
     "text": [
      "[nltk_data] Downloading package vader_lexicon to\n",
      "[nltk_data]     /home/prabhumanickavelu/nltk_data...\n",
      "[nltk_data]   Package vader_lexicon is already up-to-date!\n"
     ]
    }
   ],
   "source": [
    "import pandas as pd\n",
    "import numpy as np\n",
    "import matplotlib.pyplot as plt\n",
    "from IPython import display\n",
    "%matplotlib inline\n",
    "from os import path, getcwd\n",
    "import seaborn as sns\n",
    "from datetime import datetime\n",
    "from sklearn.impute import SimpleImputer\n",
    "from collections import Counter\n",
    "from sklearn.preprocessing import MinMaxScaler\n",
    "from sklearn.preprocessing import Imputer, StandardScaler\n",
    "from sklearn.model_selection import train_test_split\n",
    "from sklearn.model_selection import GridSearchCV\n",
    "from sklearn.metrics import make_scorer\n",
    "from sklearn.metrics import fbeta_score, accuracy_score\n",
    "from sklearn.ensemble import AdaBoostClassifier\n",
    "from sklearn.tree import DecisionTreeClassifier\n",
    "from sklearn.feature_extraction.text import CountVectorizer\n",
    "from scipy.sparse import csr_matrix\n",
    "from PIL import Image\n",
    "from wordcloud import WordCloud, STOPWORDS, ImageColorGenerator\n",
    "import string\n",
    "import nltk\n",
    "nltk.downloader.download('vader_lexicon')\n",
    "from nltk.sentiment import SentimentIntensityAnalyzer\n",
    "from langdetect import detect "
   ]
  },
  {
   "cell_type": "code",
   "execution_count": 45,
   "metadata": {},
   "outputs": [],
   "source": [
    "# current path\n",
    "cwd = path.join(getcwd(), 'data')\n",
    "\n",
    "# data folders\n",
    "cities = ['boston']"
   ]
  },
  {
   "cell_type": "code",
   "execution_count": 46,
   "metadata": {},
   "outputs": [],
   "source": [
    "# boston data\n",
    "\n",
    "boston_listings = pd.read_csv(path.join(cwd, cities[0], 'listings.csv'))\n",
    "boston_reviews = pd.read_csv(path.join(cwd, cities[0], 'reviews.csv'))\n",
    "boston_calendar  = pd.read_csv(path.join(cwd, cities[0], 'calendar.csv'))\n",
    "\n",
    "bos_lis = boston_listings\n",
    "bos_rev = boston_reviews\n",
    "bos_cal = boston_calendar"
   ]
  },
  {
   "cell_type": "code",
   "execution_count": 47,
   "metadata": {},
   "outputs": [
    {
     "data": {
      "text/plain": [
       "((3585, 95), (68275, 6), (1308890, 4))"
      ]
     },
     "execution_count": 47,
     "metadata": {},
     "output_type": "execute_result"
    }
   ],
   "source": [
    "# print boston rows and colimns\n",
    "\n",
    "bos_lis.shape, bos_rev.shape, bos_cal.shape"
   ]
  },
  {
   "cell_type": "code",
   "execution_count": 48,
   "metadata": {},
   "outputs": [
    {
     "data": {
      "text/html": [
       "<div>\n",
       "<style scoped>\n",
       "    .dataframe tbody tr th:only-of-type {\n",
       "        vertical-align: middle;\n",
       "    }\n",
       "\n",
       "    .dataframe tbody tr th {\n",
       "        vertical-align: top;\n",
       "    }\n",
       "\n",
       "    .dataframe thead th {\n",
       "        text-align: right;\n",
       "    }\n",
       "</style>\n",
       "<table border=\"1\" class=\"dataframe\">\n",
       "  <thead>\n",
       "    <tr style=\"text-align: right;\">\n",
       "      <th></th>\n",
       "      <th>id</th>\n",
       "      <th>listing_url</th>\n",
       "      <th>scrape_id</th>\n",
       "      <th>last_scraped</th>\n",
       "      <th>name</th>\n",
       "      <th>summary</th>\n",
       "      <th>space</th>\n",
       "      <th>description</th>\n",
       "      <th>experiences_offered</th>\n",
       "      <th>neighborhood_overview</th>\n",
       "      <th>...</th>\n",
       "      <th>review_scores_value</th>\n",
       "      <th>requires_license</th>\n",
       "      <th>license</th>\n",
       "      <th>jurisdiction_names</th>\n",
       "      <th>instant_bookable</th>\n",
       "      <th>cancellation_policy</th>\n",
       "      <th>require_guest_profile_picture</th>\n",
       "      <th>require_guest_phone_verification</th>\n",
       "      <th>calculated_host_listings_count</th>\n",
       "      <th>reviews_per_month</th>\n",
       "    </tr>\n",
       "  </thead>\n",
       "  <tbody>\n",
       "    <tr>\n",
       "      <td>0</td>\n",
       "      <td>12147973</td>\n",
       "      <td>https://www.airbnb.com/rooms/12147973</td>\n",
       "      <td>20160906204935</td>\n",
       "      <td>2016-09-07</td>\n",
       "      <td>Sunny Bungalow in the City</td>\n",
       "      <td>Cozy, sunny, family home.  Master bedroom high...</td>\n",
       "      <td>The house has an open and cozy feel at the sam...</td>\n",
       "      <td>Cozy, sunny, family home.  Master bedroom high...</td>\n",
       "      <td>none</td>\n",
       "      <td>Roslindale is quiet, convenient and friendly. ...</td>\n",
       "      <td>...</td>\n",
       "      <td>NaN</td>\n",
       "      <td>f</td>\n",
       "      <td>NaN</td>\n",
       "      <td>NaN</td>\n",
       "      <td>f</td>\n",
       "      <td>moderate</td>\n",
       "      <td>f</td>\n",
       "      <td>f</td>\n",
       "      <td>1</td>\n",
       "      <td>NaN</td>\n",
       "    </tr>\n",
       "    <tr>\n",
       "      <td>1</td>\n",
       "      <td>3075044</td>\n",
       "      <td>https://www.airbnb.com/rooms/3075044</td>\n",
       "      <td>20160906204935</td>\n",
       "      <td>2016-09-07</td>\n",
       "      <td>Charming room in pet friendly apt</td>\n",
       "      <td>Charming and quiet room in a second floor 1910...</td>\n",
       "      <td>Small but cozy and quite room with a full size...</td>\n",
       "      <td>Charming and quiet room in a second floor 1910...</td>\n",
       "      <td>none</td>\n",
       "      <td>The room is in Roslindale, a diverse and prima...</td>\n",
       "      <td>...</td>\n",
       "      <td>9.0</td>\n",
       "      <td>f</td>\n",
       "      <td>NaN</td>\n",
       "      <td>NaN</td>\n",
       "      <td>t</td>\n",
       "      <td>moderate</td>\n",
       "      <td>f</td>\n",
       "      <td>f</td>\n",
       "      <td>1</td>\n",
       "      <td>1.30</td>\n",
       "    </tr>\n",
       "    <tr>\n",
       "      <td>2</td>\n",
       "      <td>6976</td>\n",
       "      <td>https://www.airbnb.com/rooms/6976</td>\n",
       "      <td>20160906204935</td>\n",
       "      <td>2016-09-07</td>\n",
       "      <td>Mexican Folk Art Haven in Boston</td>\n",
       "      <td>Come stay with a friendly, middle-aged guy in ...</td>\n",
       "      <td>Come stay with a friendly, middle-aged guy in ...</td>\n",
       "      <td>Come stay with a friendly, middle-aged guy in ...</td>\n",
       "      <td>none</td>\n",
       "      <td>The LOCATION: Roslindale is a safe and diverse...</td>\n",
       "      <td>...</td>\n",
       "      <td>10.0</td>\n",
       "      <td>f</td>\n",
       "      <td>NaN</td>\n",
       "      <td>NaN</td>\n",
       "      <td>f</td>\n",
       "      <td>moderate</td>\n",
       "      <td>t</td>\n",
       "      <td>f</td>\n",
       "      <td>1</td>\n",
       "      <td>0.47</td>\n",
       "    </tr>\n",
       "  </tbody>\n",
       "</table>\n",
       "<p>3 rows × 95 columns</p>\n",
       "</div>"
      ],
      "text/plain": [
       "         id                            listing_url       scrape_id  \\\n",
       "0  12147973  https://www.airbnb.com/rooms/12147973  20160906204935   \n",
       "1   3075044   https://www.airbnb.com/rooms/3075044  20160906204935   \n",
       "2      6976      https://www.airbnb.com/rooms/6976  20160906204935   \n",
       "\n",
       "  last_scraped                               name  \\\n",
       "0   2016-09-07         Sunny Bungalow in the City   \n",
       "1   2016-09-07  Charming room in pet friendly apt   \n",
       "2   2016-09-07   Mexican Folk Art Haven in Boston   \n",
       "\n",
       "                                             summary  \\\n",
       "0  Cozy, sunny, family home.  Master bedroom high...   \n",
       "1  Charming and quiet room in a second floor 1910...   \n",
       "2  Come stay with a friendly, middle-aged guy in ...   \n",
       "\n",
       "                                               space  \\\n",
       "0  The house has an open and cozy feel at the sam...   \n",
       "1  Small but cozy and quite room with a full size...   \n",
       "2  Come stay with a friendly, middle-aged guy in ...   \n",
       "\n",
       "                                         description experiences_offered  \\\n",
       "0  Cozy, sunny, family home.  Master bedroom high...                none   \n",
       "1  Charming and quiet room in a second floor 1910...                none   \n",
       "2  Come stay with a friendly, middle-aged guy in ...                none   \n",
       "\n",
       "                               neighborhood_overview  ... review_scores_value  \\\n",
       "0  Roslindale is quiet, convenient and friendly. ...  ...                 NaN   \n",
       "1  The room is in Roslindale, a diverse and prima...  ...                 9.0   \n",
       "2  The LOCATION: Roslindale is a safe and diverse...  ...                10.0   \n",
       "\n",
       "  requires_license license jurisdiction_names instant_bookable  \\\n",
       "0                f     NaN                NaN                f   \n",
       "1                f     NaN                NaN                t   \n",
       "2                f     NaN                NaN                f   \n",
       "\n",
       "  cancellation_policy require_guest_profile_picture  \\\n",
       "0            moderate                             f   \n",
       "1            moderate                             f   \n",
       "2            moderate                             t   \n",
       "\n",
       "  require_guest_phone_verification calculated_host_listings_count  \\\n",
       "0                                f                              1   \n",
       "1                                f                              1   \n",
       "2                                f                              1   \n",
       "\n",
       "   reviews_per_month  \n",
       "0                NaN  \n",
       "1               1.30  \n",
       "2               0.47  \n",
       "\n",
       "[3 rows x 95 columns]"
      ]
     },
     "execution_count": 48,
     "metadata": {},
     "output_type": "execute_result"
    }
   ],
   "source": [
    "bos_lis.head(3)"
   ]
  },
  {
   "cell_type": "markdown",
   "metadata": {},
   "source": [
    "# Prepare data"
   ]
  },
  {
   "cell_type": "code",
   "execution_count": 49,
   "metadata": {},
   "outputs": [
    {
     "data": {
      "text/plain": [
       "Index(['listing_id', 'date', 'available', 'price'], dtype='object')"
      ]
     },
     "execution_count": 49,
     "metadata": {},
     "output_type": "execute_result"
    }
   ],
   "source": [
    "bos_cal.columns"
   ]
  },
  {
   "cell_type": "code",
   "execution_count": 50,
   "metadata": {},
   "outputs": [
    {
     "data": {
      "text/plain": [
       "Index(['listing_id', 'id', 'date', 'reviewer_id', 'reviewer_name', 'comments'], dtype='object')"
      ]
     },
     "execution_count": 50,
     "metadata": {},
     "output_type": "execute_result"
    }
   ],
   "source": [
    "bos_rev.columns"
   ]
  },
  {
   "cell_type": "code",
   "execution_count": 51,
   "metadata": {},
   "outputs": [
    {
     "data": {
      "text/plain": [
       "Index(['id', 'listing_url', 'scrape_id', 'last_scraped', 'name', 'summary',\n",
       "       'space', 'description', 'experiences_offered', 'neighborhood_overview',\n",
       "       'notes', 'transit', 'access', 'interaction', 'house_rules',\n",
       "       'thumbnail_url', 'medium_url', 'picture_url', 'xl_picture_url',\n",
       "       'host_id', 'host_url', 'host_name', 'host_since', 'host_location',\n",
       "       'host_about', 'host_response_time', 'host_response_rate',\n",
       "       'host_acceptance_rate', 'host_is_superhost', 'host_thumbnail_url',\n",
       "       'host_picture_url', 'host_neighbourhood', 'host_listings_count',\n",
       "       'host_total_listings_count', 'host_verifications',\n",
       "       'host_has_profile_pic', 'host_identity_verified', 'street',\n",
       "       'neighbourhood', 'neighbourhood_cleansed',\n",
       "       'neighbourhood_group_cleansed', 'city', 'state', 'zipcode', 'market',\n",
       "       'smart_location', 'country_code', 'country', 'latitude', 'longitude',\n",
       "       'is_location_exact', 'property_type', 'room_type', 'accommodates',\n",
       "       'bathrooms', 'bedrooms', 'beds', 'bed_type', 'amenities', 'square_feet',\n",
       "       'price', 'weekly_price', 'monthly_price', 'security_deposit',\n",
       "       'cleaning_fee', 'guests_included', 'extra_people', 'minimum_nights',\n",
       "       'maximum_nights', 'calendar_updated', 'has_availability',\n",
       "       'availability_30', 'availability_60', 'availability_90',\n",
       "       'availability_365', 'calendar_last_scraped', 'number_of_reviews',\n",
       "       'first_review', 'last_review', 'review_scores_rating',\n",
       "       'review_scores_accuracy', 'review_scores_cleanliness',\n",
       "       'review_scores_checkin', 'review_scores_communication',\n",
       "       'review_scores_location', 'review_scores_value', 'requires_license',\n",
       "       'license', 'jurisdiction_names', 'instant_bookable',\n",
       "       'cancellation_policy', 'require_guest_profile_picture',\n",
       "       'require_guest_phone_verification', 'calculated_host_listings_count',\n",
       "       'reviews_per_month'],\n",
       "      dtype='object')"
      ]
     },
     "execution_count": 51,
     "metadata": {},
     "output_type": "execute_result"
    }
   ],
   "source": [
    "# analyze and remove unwanted columns\n",
    "bos_lis.columns"
   ]
  },
  {
   "cell_type": "markdown",
   "metadata": {},
   "source": [
    "# Transform certain features"
   ]
  },
  {
   "cell_type": "code",
   "execution_count": 52,
   "metadata": {},
   "outputs": [
    {
     "data": {
      "text/plain": [
       "29605.0"
      ]
     },
     "execution_count": 52,
     "metadata": {},
     "output_type": "execute_result"
    }
   ],
   "source": [
    "# clean price columns as it is string value because of symbols\n",
    "s1 = '$296,05.00'\n",
    "out = float(str(s1).replace(',', '').split('$')[-1])\n",
    "# out = s1.extra_people.map(lambda str_price: str_price[1:]).str.replace(',', '').astype(float)\n",
    "out\n"
   ]
  },
  {
   "cell_type": "code",
   "execution_count": 53,
   "metadata": {},
   "outputs": [],
   "source": [
    "def clean_price(price_conv):\n",
    "    '''\n",
    "    Converts USD prices from string to numeric format\n",
    "    \n",
    "    Args:\n",
    "        price_conv (string): USD price in string format (e.g., '$123,456.00')\n",
    "    \n",
    "    Returns:\n",
    "        out (float): USD price in numeric format (e.g., 123456.00)\n",
    "    '''\n",
    "    out = float(str(price_conv).replace(',', '').split('$')[-1])\n",
    "    return out\n",
    "    "
   ]
  },
  {
   "cell_type": "code",
   "execution_count": 54,
   "metadata": {},
   "outputs": [
    {
     "data": {
      "text/html": [
       "<div>\n",
       "<style scoped>\n",
       "    .dataframe tbody tr th:only-of-type {\n",
       "        vertical-align: middle;\n",
       "    }\n",
       "\n",
       "    .dataframe tbody tr th {\n",
       "        vertical-align: top;\n",
       "    }\n",
       "\n",
       "    .dataframe thead th {\n",
       "        text-align: right;\n",
       "    }\n",
       "</style>\n",
       "<table border=\"1\" class=\"dataframe\">\n",
       "  <thead>\n",
       "    <tr style=\"text-align: right;\">\n",
       "      <th></th>\n",
       "      <th>listing_id</th>\n",
       "      <th>date</th>\n",
       "      <th>available</th>\n",
       "      <th>price</th>\n",
       "    </tr>\n",
       "  </thead>\n",
       "  <tbody>\n",
       "    <tr>\n",
       "      <td>0</td>\n",
       "      <td>12147973</td>\n",
       "      <td>2017-09-05</td>\n",
       "      <td>f</td>\n",
       "      <td>NaN</td>\n",
       "    </tr>\n",
       "    <tr>\n",
       "      <td>1</td>\n",
       "      <td>12147973</td>\n",
       "      <td>2017-09-04</td>\n",
       "      <td>f</td>\n",
       "      <td>NaN</td>\n",
       "    </tr>\n",
       "  </tbody>\n",
       "</table>\n",
       "</div>"
      ],
      "text/plain": [
       "   listing_id        date available price\n",
       "0    12147973  2017-09-05         f   NaN\n",
       "1    12147973  2017-09-04         f   NaN"
      ]
     },
     "execution_count": 54,
     "metadata": {},
     "output_type": "execute_result"
    }
   ],
   "source": [
    "bos_cal.head(2)"
   ]
  },
  {
   "cell_type": "code",
   "execution_count": 55,
   "metadata": {},
   "outputs": [],
   "source": [
    "def bool_to_num(s):\n",
    "    '''\n",
    "    Converts \"first letter boolean\" strings to integers\n",
    "    \n",
    "    Args:\n",
    "        bool_string (string): 't', 'f' or other\n",
    "    \n",
    "    Returns:\n",
    "        bool_number (int): 1, 0 or None\n",
    "    '''\n",
    "    \n",
    "    if s == 'f':\n",
    "        return 0\n",
    "    elif s == 't':\n",
    "        return 1\n",
    "    return None"
   ]
  },
  {
   "cell_type": "code",
   "execution_count": 56,
   "metadata": {},
   "outputs": [],
   "source": [
    "# a = '2019-08-15'\n",
    "# b = '2018-07-13'"
   ]
  },
  {
   "cell_type": "code",
   "execution_count": 57,
   "metadata": {},
   "outputs": [],
   "source": [
    "# (date_format(a) - date_format(b)).days"
   ]
  },
  {
   "cell_type": "code",
   "execution_count": 58,
   "metadata": {},
   "outputs": [],
   "source": [
    "def date_format(dat):\n",
    "    '''\n",
    "    Converts \"string to date\n",
    "    \n",
    "    '''\n",
    "    string = datetime.strptime(dat,\"%Y-%M-%d\")\n",
    "#     string = str(dat).replace('-',', ').strip('')\n",
    "#     if string.startswith(\"'\") and string.endswith(\"'\"):\n",
    "#     string = string[1:-1]\n",
    "    print(type(string))\n",
    "    return string\n"
   ]
  },
  {
   "cell_type": "code",
   "execution_count": 100,
   "metadata": {},
   "outputs": [],
   "source": [
    "def clean_data(df):\n",
    "    '''\n",
    "    INPUT\n",
    "    df - Raw dataframe\n",
    "    OUTPUT\n",
    "    Cleaned dataframe\n",
    "    '''\n",
    "    data_df = df.copy()\n",
    "\n",
    "    # Clean columns with price amounts having '$' and ',' characters\n",
    "    data_df['price'] = data_df[['price']].apply(lambda x : x.str.replace('$', '')).apply(lambda x : x.str.replace(',', '')).astype(float)\n",
    "    data_df['security_deposit'] = data_df[['security_deposit']].apply(lambda x : x.str.replace('$', '')).apply(lambda x : x.str.replace(',', '')).astype(float)\n",
    "    data_df['cleaning_fee'] = data_df[['cleaning_fee']].apply(lambda x : x.str.replace('$', '')).apply(lambda x : x.str.replace(',', '')).astype(float)\n",
    "    data_df['extra_people'] = data_df[['extra_people']].apply(lambda x : x.str.replace('$', '')).apply(lambda x : x.str.replace(',', '')).astype(float)\n",
    "\n",
    "    # Clean percentage columns with '%' character\n",
    "    data_df['host_response_rate'] = data_df[['host_response_rate']].apply(lambda x : x.str.replace('%', '')).astype(float)\n",
    "    data_df['host_acceptance_rate'] = data_df[['host_acceptance_rate']].apply(lambda x : x.str.replace('%', '')).astype(float)\n",
    "\n",
    "    # Convert thumnail data as available or not-available\n",
    "    data_df['thumbnail_available'] = np.where(data_df['thumbnail_url'].isnull(), 0, 1)\n",
    "    data_df.drop('thumbnail_url', axis = 1, inplace = True)\n",
    "\n",
    "    # Convert host since to number of days\n",
    "    data_df['host_since'] = pd.to_datetime(data_df['host_since'], format='%Y-%m-%d')\n",
    "    data_df['host_since'] = data_df[['host_since']].apply(lambda x : date_format(x,'2016-01-04'))\n",
    "\n",
    "    # Convert amenities column to number of amenities\n",
    "    amen_count = []\n",
    "    for str in data_df.amenities.values:\n",
    "        amenities = list(csv.reader([str[1:-2]]))[0]\n",
    "        amen_count.append(len(amenities))\n",
    "\n",
    "    data_df['amenities_count'] = amen_count\n",
    "    data_df = data_df.drop(['amenities'], axis=1)\n",
    "\n",
    "    return data_df"
   ]
  },
  {
   "cell_type": "code",
   "execution_count": 101,
   "metadata": {},
   "outputs": [],
   "source": [
    "listing_df = bos_lis[['description','thumbnail_url','host_since','host_response_time','host_response_rate',\n",
    "                           'host_acceptance_rate','host_has_profile_pic','host_identity_verified',\n",
    "                           'neighbourhood_cleansed','neighbourhood_group_cleansed','property_type','room_type',\n",
    "                           'accommodates','bathrooms','bedrooms','beds','bed_type','amenities','square_feet','price',\n",
    "                           'security_deposit','cleaning_fee','guests_included','extra_people','minimum_nights',\n",
    "                           'maximum_nights','availability_365','number_of_reviews','review_scores_rating',\n",
    "                           'instant_bookable','cancellation_policy','reviews_per_month']]"
   ]
  },
  {
   "cell_type": "code",
   "execution_count": null,
   "metadata": {},
   "outputs": [],
   "source": [
    "boston_df = clean_data(listing_df)\n",
    "seattle_df.drop('description', axis=1, inplace=True)\n",
    "seattle_df.head()"
   ]
  },
  {
   "cell_type": "code",
   "execution_count": null,
   "metadata": {
    "collapsed": true
   },
   "outputs": [],
   "source": []
  },
  {
   "cell_type": "code",
   "execution_count": 102,
   "metadata": {},
   "outputs": [
    {
     "ename": "NameError",
     "evalue": "name 'seattle_df' is not defined",
     "output_type": "error",
     "traceback": [
      "\u001b[0;31m---------------------------------------------------------------------------\u001b[0m",
      "\u001b[0;31mNameError\u001b[0m                                 Traceback (most recent call last)",
      "\u001b[0;32m<ipython-input-102-7443330b8d00>\u001b[0m in \u001b[0;36m<module>\u001b[0;34m\u001b[0m\n\u001b[1;32m      1\u001b[0m \u001b[0;31m# Perform an assessment of how much missing data is there in each column of the dataset.\u001b[0m\u001b[0;34m\u001b[0m\u001b[0;34m\u001b[0m\u001b[0;34m\u001b[0m\u001b[0m\n\u001b[1;32m      2\u001b[0m \u001b[0;34m\u001b[0m\u001b[0m\n\u001b[0;32m----> 3\u001b[0;31m \u001b[0mdf_nans\u001b[0m \u001b[0;34m=\u001b[0m \u001b[0mseattle_df\u001b[0m\u001b[0;34m.\u001b[0m\u001b[0misnull\u001b[0m\u001b[0;34m(\u001b[0m\u001b[0;34m)\u001b[0m\u001b[0;34m.\u001b[0m\u001b[0msum\u001b[0m\u001b[0;34m(\u001b[0m\u001b[0;34m)\u001b[0m\u001b[0;34m\u001b[0m\u001b[0;34m\u001b[0m\u001b[0m\n\u001b[0m\u001b[1;32m      4\u001b[0m \u001b[0mdata\u001b[0m \u001b[0;34m=\u001b[0m \u001b[0;34m[\u001b[0m\u001b[0;34m(\u001b[0m\u001b[0;34m'feature'\u001b[0m\u001b[0;34m,\u001b[0m \u001b[0mlist\u001b[0m\u001b[0;34m(\u001b[0m\u001b[0mdf_nans\u001b[0m\u001b[0;34m.\u001b[0m\u001b[0mindex\u001b[0m\u001b[0;34m)\u001b[0m\u001b[0;34m)\u001b[0m\u001b[0;34m,\u001b[0m \u001b[0;34m(\u001b[0m\u001b[0;34m'nan_count'\u001b[0m\u001b[0;34m,\u001b[0m \u001b[0mlist\u001b[0m\u001b[0;34m(\u001b[0m\u001b[0mdf_nans\u001b[0m\u001b[0;34m.\u001b[0m\u001b[0mvalues\u001b[0m\u001b[0;34m)\u001b[0m\u001b[0;34m)\u001b[0m\u001b[0;34m]\u001b[0m\u001b[0;34m\u001b[0m\u001b[0;34m\u001b[0m\u001b[0m\n\u001b[1;32m      5\u001b[0m \u001b[0mnan_counts\u001b[0m \u001b[0;34m=\u001b[0m \u001b[0mpd\u001b[0m\u001b[0;34m.\u001b[0m\u001b[0mDataFrame\u001b[0m\u001b[0;34m.\u001b[0m\u001b[0mfrom_items\u001b[0m\u001b[0;34m(\u001b[0m\u001b[0mdata\u001b[0m\u001b[0;34m)\u001b[0m\u001b[0;34m\u001b[0m\u001b[0;34m\u001b[0m\u001b[0m\n",
      "\u001b[0;31mNameError\u001b[0m: name 'seattle_df' is not defined"
     ]
    }
   ],
   "source": [
    "# Perform an assessment of how much missing data is there in each column of the dataset.\n",
    "\n",
    "df_nans = seattle_df.isnull().sum()\n",
    "data = [('feature', list(df_nans.index)), ('nan_count', list(df_nans.values))]\n",
    "nan_counts = pd.DataFrame.from_items(data)\n",
    "\n",
    "nan_counts = nan_counts.sort_values(by='nan_count')\n",
    "display(nan_counts[nan_counts['nan_count'] != 0])\n",
    "\n",
    "nan_percent = nan_counts['nan_count'].apply(lambda x : round(x/3818, 2)*100)\n",
    "nan_counts['percent'] = nan_percent\n",
    "display(nan_counts[nan_counts['nan_count'] > 0])"
   ]
  },
  {
   "cell_type": "markdown",
   "metadata": {},
   "source": [
    "# Q1) How do price increase/decrease in a season and peak season?"
   ]
  },
  {
   "cell_type": "code",
   "execution_count": 59,
   "metadata": {},
   "outputs": [],
   "source": [
    "# for this we take calendar data from both cities to analyze"
   ]
  },
  {
   "cell_type": "code",
   "execution_count": 88,
   "metadata": {},
   "outputs": [],
   "source": [
    "price_cols = ['price']\n",
    "bool_cols = ['available']\n",
    "bos_cal_1 = bos_cal"
   ]
  },
  {
   "cell_type": "code",
   "execution_count": 89,
   "metadata": {},
   "outputs": [],
   "source": [
    "# clean price column\n",
    "for col in price_cols:\n",
    "    bos_cal_1[col] = bos_cal_1[col].apply(clean_price)\n",
    "    "
   ]
  },
  {
   "cell_type": "code",
   "execution_count": 91,
   "metadata": {},
   "outputs": [],
   "source": [
    "#convert available column from bool to num\n",
    "for col in bool_cols:\n",
    "    bos_cal_1[col] = bos_cal_1[col].apply(bool_to_num)"
   ]
  },
  {
   "cell_type": "code",
   "execution_count": 92,
   "metadata": {},
   "outputs": [],
   "source": [
    "# calculate mean price for each month to analyze the peak season\n",
    "# boston dataset\n",
    "\n",
    "bos_cal_1['year'] = pd.DatetimeIndex(bos_cal_1['date']).year\n",
    "bos_cal_1['month'] = pd.DatetimeIndex(bos_cal_1['date']).month\n",
    "bos_cal_1['price'] = bos_cal_1['price']\n",
    "# bos_cal_1.groupby(['year','month'])[['price']].mean().plot(kind=\"bar\");"
   ]
  },
  {
   "cell_type": "code",
   "execution_count": 93,
   "metadata": {},
   "outputs": [
    {
     "data": {
      "text/plain": [
       "<matplotlib.axes._subplots.AxesSubplot at 0x7f93a8536f98>"
      ]
     },
     "execution_count": 93,
     "metadata": {},
     "output_type": "execute_result"
    },
    {
     "data": {
      "image/png": "[encoded data removed]",
      "text/plain": [
       "<Figure size 432x288 with 1 Axes>"
      ]
     },
     "metadata": {
      "needs_background": "light"
     },
     "output_type": "display_data"
    }
   ],
   "source": [
    "# plot seattle dataset\n",
    "\n",
    "bos_cal_1.groupby(['year','month'])[['price']].mean().plot(kind='bar')"
   ]
  },
  {
   "cell_type": "code",
   "execution_count": null,
   "metadata": {},
   "outputs": [],
   "source": []
  },
  {
   "cell_type": "markdown",
   "metadata": {},
   "source": [
    "# Q2) Analyze what do people think about AirBnb based on reviews?"
   ]
  },
  {
   "cell_type": "code",
   "execution_count": 65,
   "metadata": {},
   "outputs": [
    {
     "data": {
      "text/html": [
       "<div>\n",
       "<style scoped>\n",
       "    .dataframe tbody tr th:only-of-type {\n",
       "        vertical-align: middle;\n",
       "    }\n",
       "\n",
       "    .dataframe tbody tr th {\n",
       "        vertical-align: top;\n",
       "    }\n",
       "\n",
       "    .dataframe thead th {\n",
       "        text-align: right;\n",
       "    }\n",
       "</style>\n",
       "<table border=\"1\" class=\"dataframe\">\n",
       "  <thead>\n",
       "    <tr style=\"text-align: right;\">\n",
       "      <th></th>\n",
       "      <th>listing_id</th>\n",
       "      <th>id</th>\n",
       "      <th>date</th>\n",
       "      <th>reviewer_id</th>\n",
       "      <th>reviewer_name</th>\n",
       "      <th>comments</th>\n",
       "    </tr>\n",
       "  </thead>\n",
       "  <tbody>\n",
       "    <tr>\n",
       "      <td>0</td>\n",
       "      <td>1178162</td>\n",
       "      <td>4724140</td>\n",
       "      <td>2013-05-21</td>\n",
       "      <td>4298113</td>\n",
       "      <td>Olivier</td>\n",
       "      <td>My stay at islam's place was really cool! Good...</td>\n",
       "    </tr>\n",
       "    <tr>\n",
       "      <td>1</td>\n",
       "      <td>1178162</td>\n",
       "      <td>4869189</td>\n",
       "      <td>2013-05-29</td>\n",
       "      <td>6452964</td>\n",
       "      <td>Charlotte</td>\n",
       "      <td>Great location for both airport and city - gre...</td>\n",
       "    </tr>\n",
       "    <tr>\n",
       "      <td>2</td>\n",
       "      <td>1178162</td>\n",
       "      <td>5003196</td>\n",
       "      <td>2013-06-06</td>\n",
       "      <td>6449554</td>\n",
       "      <td>Sebastian</td>\n",
       "      <td>We really enjoyed our stay at Islams house. Fr...</td>\n",
       "    </tr>\n",
       "    <tr>\n",
       "      <td>3</td>\n",
       "      <td>1178162</td>\n",
       "      <td>5150351</td>\n",
       "      <td>2013-06-15</td>\n",
       "      <td>2215611</td>\n",
       "      <td>Marine</td>\n",
       "      <td>The room was nice and clean and so were the co...</td>\n",
       "    </tr>\n",
       "    <tr>\n",
       "      <td>4</td>\n",
       "      <td>1178162</td>\n",
       "      <td>5171140</td>\n",
       "      <td>2013-06-16</td>\n",
       "      <td>6848427</td>\n",
       "      <td>Andrew</td>\n",
       "      <td>Great location. Just 5 mins walk from the Airp...</td>\n",
       "    </tr>\n",
       "  </tbody>\n",
       "</table>\n",
       "</div>"
      ],
      "text/plain": [
       "   listing_id       id        date  reviewer_id reviewer_name  \\\n",
       "0     1178162  4724140  2013-05-21      4298113       Olivier   \n",
       "1     1178162  4869189  2013-05-29      6452964     Charlotte   \n",
       "2     1178162  5003196  2013-06-06      6449554     Sebastian   \n",
       "3     1178162  5150351  2013-06-15      2215611        Marine   \n",
       "4     1178162  5171140  2013-06-16      6848427        Andrew   \n",
       "\n",
       "                                            comments  \n",
       "0  My stay at islam's place was really cool! Good...  \n",
       "1  Great location for both airport and city - gre...  \n",
       "2  We really enjoyed our stay at Islams house. Fr...  \n",
       "3  The room was nice and clean and so were the co...  \n",
       "4  Great location. Just 5 mins walk from the Airp...  "
      ]
     },
     "execution_count": 65,
     "metadata": {},
     "output_type": "execute_result"
    }
   ],
   "source": [
    "# Assessing the data\n",
    "bos_rev.head(5)"
   ]
  },
  {
   "cell_type": "code",
   "execution_count": 66,
   "metadata": {},
   "outputs": [],
   "source": [
    "\n",
    "# Some preprocessing prices and date from strings to float and datetime\n",
    "def fix_price(x):\n",
    "    \"\"\"\n",
    "    Convert price in string format with $ sign to a float\n",
    "    input: a string including a price with optional $ symbol\n",
    "    output: a float\n",
    "    \"\"\"\n",
    "    if type(x)==str:\n",
    "        x=x.replace('$','')\n",
    "        x=x.replace(',','')\n",
    "        x=float(x)\n",
    "    return x\n",
    "\n",
    "bos_rev['date']=pd.to_datetime(bos_rev['date'])"
   ]
  },
  {
   "cell_type": "code",
   "execution_count": 67,
   "metadata": {},
   "outputs": [
    {
     "data": {
      "image/png": "[encoded data removed]",
      "text/plain": [
       "<Figure size 720x360 with 1 Axes>"
      ]
     },
     "metadata": {
      "needs_background": "light"
     },
     "output_type": "display_data"
    }
   ],
   "source": [
    "# We can use the listings dataset and the scores ratings to have an idea of what to expect from the reviews:\n",
    "\n",
    "# Mostly positive reviews\n",
    "plt.figure(figsize=(10,5))\n",
    "plt.subplot(1,2,1)\n",
    "bos_lis['review_scores_rating'].sort_values().reset_index(drop=True).dropna().hist(color='blue', bins=20)\n",
    "plt.title('Boston Reviews Scores Rating');"
   ]
  },
  {
   "cell_type": "markdown",
   "metadata": {},
   "source": [
    "the plot above shows that most of the reviews are positives score from scale 0 to 100"
   ]
  },
  {
   "cell_type": "code",
   "execution_count": 68,
   "metadata": {},
   "outputs": [],
   "source": [
    "# Generating  a wordmap from the comments\n",
    "# Importing classes\n",
    "def gen_wordcloud(reviews, mask_file):\n",
    "    # drop rows without reviews\n",
    "    reviews = reviews.dropna(subset=['comments'])\n",
    "    text = \" \".join(review for review in reviews.comments)\n",
    "    # remove punctation\n",
    "    nopunc = [char for char in text if char not in string.punctuation]\n",
    "    # Join the characters again to form the string.\n",
    "    nopunc = ''.join(nopunc)\n",
    "    # remove stopwords\n",
    "    stopwords = set(STOPWORDS)\n",
    "    # generating wordcloud\n",
    "    # Loading a mask from seattle\n",
    "    \n",
    "    mask = np.array(Image.open(mask_file))\n",
    "    wordcloud = WordCloud(stopwords=stopwords, max_words=100, background_color=\"white\",\n",
    "                     mask=mask, margin=3, scale=2).generate(nopunc)\n",
    "\n",
    "    return wordcloud"
   ]
  },
  {
   "cell_type": "code",
   "execution_count": 69,
   "metadata": {},
   "outputs": [],
   "source": [
    "boston_wc = gen_wordcloud(bos_rev,'boston-shape.png')"
   ]
  },
  {
   "cell_type": "code",
   "execution_count": 70,
   "metadata": {},
   "outputs": [
    {
     "data": {
      "text/plain": [
       "<matplotlib.image.AxesImage at 0x7f93a9c637f0>"
      ]
     },
     "execution_count": 70,
     "metadata": {},
     "output_type": "execute_result"
    },
    {
     "data": {
      "image/png": "[encoded data removed]",
      "text/plain": [
       "<Figure size 1440x720 with 1 Axes>"
      ]
     },
     "metadata": {
      "needs_background": "light"
     },
     "output_type": "display_data"
    }
   ],
   "source": [
    "plt.figure(figsize=[20,10])\n",
    "plt.subplot(1,3,1)\n",
    "plt.imshow(boston_wc, interpolation='bilinear')"
   ]
  },
  {
   "cell_type": "markdown",
   "metadata": {},
   "source": [
    "# classify reviews based on text"
   ]
  },
  {
   "cell_type": "markdown",
   "metadata": {},
   "source": [
    "we will use vader sentiment analyzer that produces four sentiment metrics positive, negative, neutral and final metric compound score normalized sum of all of the lexicon ratings which have been standardised to range between -1 and 1"
   ]
  },
  {
   "cell_type": "code",
   "execution_count": 71,
   "metadata": {},
   "outputs": [],
   "source": [
    "def print_sentiment_scores(sentence):\n",
    "    \"\"\"\n",
    "    Prints the polarity scores from teh analyser\n",
    "    input: a text sentence\n",
    "    output: a list with the polarity scores (positivity, negativity, neutral, compound) of the sentence\n",
    "    \"\"\"\n",
    "    snt = analyser.polarity_scores(sentence)"
   ]
  },
  {
   "cell_type": "code",
   "execution_count": 72,
   "metadata": {},
   "outputs": [],
   "source": [
    "# Detect language of reviews and drop rows with non-english reviews\n",
    "def safe_detect(text):\n",
    "    \"\"\"\n",
    "    Detect language of the text\n",
    "    input: a string with text\n",
    "    output: the encoding of the language of the text (example 'en' for english), or 'None' if not found \n",
    "    \"\"\"\n",
    "    try:\n",
    "        return(detect(text))\n",
    "    except:\n",
    "        return('None')"
   ]
  },
  {
   "cell_type": "code",
   "execution_count": 73,
   "metadata": {},
   "outputs": [],
   "source": [
    "# We will remove all non-english reviews  \n",
    "\n",
    "def review_preprocessing(reviews):\n",
    "    \"\"\"\n",
    "    Preprocessing of reviews airbnb dataframe\n",
    "    input: dataframe of airbnb reviews\n",
    "    output: dataframe with language column added, limited to rows with reviews in english\n",
    "    \"\"\"\n",
    "    \n",
    "    df = reviews.dropna(subset=['comments']).copy()\n",
    "    df['language'] = df['comments'].apply(safe_detect)\n",
    "    return df[df['language']=='en']"
   ]
  },
  {
   "cell_type": "code",
   "execution_count": 74,
   "metadata": {},
   "outputs": [],
   "source": [
    "# This will take some time, better to save the files once done\n",
    "rv_boston = review_preprocessing(bos_rev)\n",
    "rv_boston.to_csv('boston_prep_reviews.csv')"
   ]
  },
  {
   "cell_type": "code",
   "execution_count": 77,
   "metadata": {},
   "outputs": [],
   "source": [
    "# Using the model \n",
    "# We add the polarity scores from Vader to the reviews datasets\n",
    "analyser = SentimentIntensityAnalyzer()\n",
    "boston_scores = [[d['neg'], d['neu'], d['pos'], d['compound']] for d in rv_boston.comments.apply(analyser.polarity_scores)]\n",
    "rv_boston = pd.concat([rv_boston, pd.DataFrame(data = boston_scores, columns=['negative', 'neutral', 'positive', 'compound'])], \n",
    "                                           axis=1)"
   ]
  },
  {
   "cell_type": "markdown",
   "metadata": {},
   "source": [
    "# visualization of boston dataset for scores of positive, negative, neutral and compound score"
   ]
  },
  {
   "cell_type": "code",
   "execution_count": 78,
   "metadata": {},
   "outputs": [
    {
     "data": {
      "text/plain": [
       "(0, 50000)"
      ]
     },
     "execution_count": 78,
     "metadata": {},
     "output_type": "execute_result"
    },
    {
     "data": {
      "image/png": "[encoded data removed]",
      "text/plain": [
       "<Figure size 1080x288 with 4 Axes>"
      ]
     },
     "metadata": {
      "needs_background": "light"
     },
     "output_type": "display_data"
    }
   ],
   "source": [
    "# Distributions for Boston\n",
    "plt.figure(figsize=(15,4))\n",
    "plt.subplot(1,4,1)\n",
    "rv_boston.groupby(pd.cut(rv_boston[\"positive\"], np.arange(0, 1.1, 0.1))).listing_id.count().plot(kind='bar', color='green')\n",
    "plt.title('Positive Sentiment')\n",
    "plt.ylim(0,50000)\n",
    "plt.subplot(1,4,2)\n",
    "rv_boston.groupby(pd.cut(rv_boston[\"neutral\"], np.arange(0, 1.1, 0.1))).listing_id.count().plot(kind='bar', color='grey')\n",
    "plt.title('Neutral Sentiment')\n",
    "plt.ylim(0,50000)\n",
    "plt.subplot(1,4,3)\n",
    "rv_boston.groupby(pd.cut(rv_boston[\"negative\"], np.arange(0, 1.1, 0.1))).listing_id.count().plot(kind='bar', color='red')\n",
    "plt.title('Negative Sentiment')\n",
    "plt.ylim(0,50000)\n",
    "plt.subplot(1,4,4)\n",
    "rv_boston.groupby(pd.cut(rv_boston[\"compound\"], np.arange(-1.0, 1.1, 0.2))).listing_id.count().plot(kind='bar', color='black')\n",
    "plt.title('Compound Sentiment');\n",
    "plt.ylim(0,50000)\n"
   ]
  },
  {
   "cell_type": "code",
   "execution_count": 80,
   "metadata": {},
   "outputs": [
    {
     "name": "stdout",
     "output_type": "stream",
     "text": [
      "0.737550312894791\n"
     ]
    }
   ],
   "source": [
    "print(rv_boston[rv_boston[\"compound\"]>0.8].listing_id.count()/rv_boston.shape[0])"
   ]
  },
  {
   "cell_type": "code",
   "execution_count": null,
   "metadata": {},
   "outputs": [],
   "source": []
  },
  {
   "cell_type": "markdown",
   "metadata": {},
   "source": [
    "# Vader compound score VS listings Review Scores rating"
   ]
  },
  {
   "cell_type": "code",
   "execution_count": 82,
   "metadata": {},
   "outputs": [
    {
     "data": {
      "text/html": [
       "<div>\n",
       "<style scoped>\n",
       "    .dataframe tbody tr th:only-of-type {\n",
       "        vertical-align: middle;\n",
       "    }\n",
       "\n",
       "    .dataframe tbody tr th {\n",
       "        vertical-align: top;\n",
       "    }\n",
       "\n",
       "    .dataframe thead th {\n",
       "        text-align: right;\n",
       "    }\n",
       "</style>\n",
       "<table border=\"1\" class=\"dataframe\">\n",
       "  <thead>\n",
       "    <tr style=\"text-align: right;\">\n",
       "      <th></th>\n",
       "      <th>compound</th>\n",
       "      <th>review_scores_rating</th>\n",
       "    </tr>\n",
       "    <tr>\n",
       "      <th>listing_id</th>\n",
       "      <th></th>\n",
       "      <th></th>\n",
       "    </tr>\n",
       "  </thead>\n",
       "  <tbody>\n",
       "    <tr>\n",
       "      <td>3353.0</td>\n",
       "      <td>0.868303</td>\n",
       "      <td>90.0</td>\n",
       "    </tr>\n",
       "    <tr>\n",
       "      <td>5506.0</td>\n",
       "      <td>0.938817</td>\n",
       "      <td>91.0</td>\n",
       "    </tr>\n",
       "    <tr>\n",
       "      <td>6695.0</td>\n",
       "      <td>0.874486</td>\n",
       "      <td>95.0</td>\n",
       "    </tr>\n",
       "    <tr>\n",
       "      <td>6976.0</td>\n",
       "      <td>0.869378</td>\n",
       "      <td>98.0</td>\n",
       "    </tr>\n",
       "    <tr>\n",
       "      <td>8792.0</td>\n",
       "      <td>0.815483</td>\n",
       "      <td>91.0</td>\n",
       "    </tr>\n",
       "  </tbody>\n",
       "</table>\n",
       "</div>"
      ],
      "text/plain": [
       "            compound  review_scores_rating\n",
       "listing_id                                \n",
       "3353.0      0.868303                  90.0\n",
       "5506.0      0.938817                  91.0\n",
       "6695.0      0.874486                  95.0\n",
       "6976.0      0.869378                  98.0\n",
       "8792.0      0.815483                  91.0"
      ]
     },
     "execution_count": 82,
     "metadata": {},
     "output_type": "execute_result"
    }
   ],
   "source": [
    "# Calculate the mean of the compound score from Vader\n",
    "comp_rev=rv_boston.groupby(['listing_id'])[['compound']].mean().reset_index().merge(\n",
    "    bos_lis[['id', 'review_scores_rating']].dropna(), right_on='id', left_on='listing_id')\n",
    "\n",
    "comp_rev.drop('id', axis=1, inplace=True)\n",
    "comp_rev.set_index('listing_id', drop=True, inplace=True)\n",
    "comp_rev.head()"
   ]
  },
  {
   "cell_type": "code",
   "execution_count": 83,
   "metadata": {},
   "outputs": [
    {
     "data": {
      "text/html": [
       "<div>\n",
       "<style scoped>\n",
       "    .dataframe tbody tr th:only-of-type {\n",
       "        vertical-align: middle;\n",
       "    }\n",
       "\n",
       "    .dataframe tbody tr th {\n",
       "        vertical-align: top;\n",
       "    }\n",
       "\n",
       "    .dataframe thead th {\n",
       "        text-align: right;\n",
       "    }\n",
       "</style>\n",
       "<table border=\"1\" class=\"dataframe\">\n",
       "  <thead>\n",
       "    <tr style=\"text-align: right;\">\n",
       "      <th></th>\n",
       "      <th>compound</th>\n",
       "      <th>review_scores_rating</th>\n",
       "    </tr>\n",
       "    <tr>\n",
       "      <th>listing_id</th>\n",
       "      <th></th>\n",
       "      <th></th>\n",
       "    </tr>\n",
       "  </thead>\n",
       "  <tbody>\n",
       "    <tr>\n",
       "      <td>3353.0</td>\n",
       "      <td>0.930673</td>\n",
       "      <td>0.8750</td>\n",
       "    </tr>\n",
       "    <tr>\n",
       "      <td>5506.0</td>\n",
       "      <td>0.968511</td>\n",
       "      <td>0.8875</td>\n",
       "    </tr>\n",
       "    <tr>\n",
       "      <td>6695.0</td>\n",
       "      <td>0.933991</td>\n",
       "      <td>0.9375</td>\n",
       "    </tr>\n",
       "    <tr>\n",
       "      <td>6976.0</td>\n",
       "      <td>0.931250</td>\n",
       "      <td>0.9750</td>\n",
       "    </tr>\n",
       "    <tr>\n",
       "      <td>8792.0</td>\n",
       "      <td>0.902331</td>\n",
       "      <td>0.8875</td>\n",
       "    </tr>\n",
       "  </tbody>\n",
       "</table>\n",
       "</div>"
      ],
      "text/plain": [
       "            compound  review_scores_rating\n",
       "listing_id                                \n",
       "3353.0      0.930673                0.8750\n",
       "5506.0      0.968511                0.8875\n",
       "6695.0      0.933991                0.9375\n",
       "6976.0      0.931250                0.9750\n",
       "8792.0      0.902331                0.8875"
      ]
     },
     "execution_count": 83,
     "metadata": {},
     "output_type": "execute_result"
    }
   ],
   "source": [
    "# Now we normalize two scores so that they can be compared, using min max normalization\n",
    "def normalize(df):\n",
    "    \"\"\"\n",
    "    Normalize the columns in the dataset containing compond score from Vader and rating score from airbnb\n",
    "    input: a dataframe with listing_id, vader compound score (-1, 1) range and airbnb scores rating in (0,10) range\n",
    "    output: a dataframe with normalized scores using min-max normalization\n",
    "    \"\"\"\n",
    "    result = df.copy()\n",
    "    for feature_name in df.columns:\n",
    "        max_value = df[feature_name].max()\n",
    "        min_value = df[feature_name].min()\n",
    "        result[feature_name] = (df[feature_name] - min_value) / (max_value - min_value)\n",
    "    return result\n",
    "\n",
    "normal_comp = normalize(comp_rev)\n",
    "normal_comp.head()"
   ]
  },
  {
   "cell_type": "code",
   "execution_count": 84,
   "metadata": {},
   "outputs": [
    {
     "data": {
      "text/plain": [
       "<matplotlib.axes._subplots.AxesSubplot at 0x7f93a9a4b780>"
      ]
     },
     "execution_count": 84,
     "metadata": {},
     "output_type": "execute_result"
    },
    {
     "data": {
      "image/png": "[encoded data removed]",
      "text/plain": [
       "<Figure size 432x288 with 1 Axes>"
      ]
     },
     "metadata": {
      "needs_background": "light"
     },
     "output_type": "display_data"
    }
   ],
   "source": [
    "# Now we can compare the two:\n",
    "# Differences, skewwd towards 0.3===> Good!!!\n",
    "\n",
    "normal_comp['diff']=np.abs(normal_comp['compound'] - normal_comp['review_scores_rating'])\n",
    "normal_comp['diff'].hist(bins=20)"
   ]
  },
  {
   "cell_type": "markdown",
   "metadata": {},
   "source": [
    "mean of the VADER compound score and the review_scores_rating for most of listings is below 0.1."
   ]
  },
  {
   "cell_type": "code",
   "execution_count": null,
   "metadata": {},
   "outputs": [],
   "source": []
  }
 ],
 "metadata": {
  "kernelspec": {
   "display_name": "Python 3",
   "language": "python",
   "name": "python3"
  },
  "language_info": {
   "codemirror_mode": {
    "name": "ipython",
    "version": 3
   },
   "file_extension": ".py",
   "mimetype": "text/x-python",
   "name": "python",
   "nbconvert_exporter": "python",
   "pygments_lexer": "ipython3",
   "version": "3.6.8"
  }
 },
 "nbformat": 4,
 "nbformat_minor": 2
}
